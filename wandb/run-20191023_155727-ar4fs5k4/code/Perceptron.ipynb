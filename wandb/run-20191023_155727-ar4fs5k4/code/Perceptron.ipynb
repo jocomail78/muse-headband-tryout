{
 "cells": [
  {
   "cell_type": "code",
   "execution_count": 1,
   "metadata": {},
   "outputs": [
    {
     "name": "stderr",
     "output_type": "stream",
     "text": [
      "Using TensorFlow backend.\n"
     ]
    }
   ],
   "source": [
    "import os\n",
    "import csv\n",
    "import math\n",
    "import wandb\n",
    "import numpy as np\n",
    "from pathlib import Path \n",
    "\n",
    "from keras.utils import np_utils\n",
    "from keras.datasets import mnist\n",
    "from keras.models import Sequential\n",
    "from wandb.keras import WandbCallback\n",
    "from keras.layers import Dense, Flatten, Dropout"
   ]
  },
  {
   "cell_type": "code",
   "execution_count": 2,
   "metadata": {},
   "outputs": [],
   "source": [
    "#Getting the latest file from the folder\n",
    "record_path = Path(\"RecordSummary\")\n",
    "training_data_list = list(filter(os.path.isfile,record_path.glob('*.csv')))\n",
    "training_data_list.sort(key=lambda x: os.path.getmtime(x))\n",
    "training_data = training_data_list[-1]\n",
    "\n",
    "x_train_percent = 60\n",
    "x_test_percent = 100-x_train_percent\n",
    "x_train = []\n",
    "x_test = []\n",
    "y_train = []\n",
    "y_test = []\n",
    "\n",
    "with open(training_data) as csv_file:\n",
    "    data = list(csv.reader(csv_file))\n",
    "    lines = list(map(list, zip(*data)))\n",
    "\n",
    "nr_x_train = math.ceil(len(lines[0])*x_train_percent/100)\n",
    "lines = np.asarray(lines)\n",
    "\n",
    "\n",
    "#X stands for input, Y stands for output\n",
    "\n",
    "x_train = lines[1:, 0:nr_x_train]\n",
    "y_train = lines[0, 0:nr_x_train]\n",
    "\n",
    "x_test = lines[1:, nr_x_train:] \n",
    "y_test = lines[0, nr_x_train:]\n",
    "x_train = x_train.transpose()\n",
    "x_test = x_test.transpose()\n",
    "\n",
    "x_train = [a.reshape(4,96) for a in x_train]\n",
    "x_test = [a.reshape(4,96) for a in x_test]\n",
    "\n",
    "is_up_y_train = y_train=='up'\n",
    "is_up_y_test = y_test=='up'\n",
    "labels = [\"Not UP\", \"UP\"]"
   ]
  },
  {
   "cell_type": "code",
   "execution_count": 3,
   "metadata": {},
   "outputs": [
    {
     "data": {
      "text/html": [
       "\n",
       "                Logging results to <a href=\"https://wandb.com\" target=\"_blank\">Weights & Biases</a>.<br/>\n",
       "                Project page: <a href=\"https://app.wandb.ai/peter_jozsef/eeg-up-down\" target=\"_blank\">https://app.wandb.ai/peter_jozsef/eeg-up-down</a><br/>\n",
       "                Run page: <a href=\"https://app.wandb.ai/peter_jozsef/eeg-up-down/runs/mfp0m0lt\" target=\"_blank\">https://app.wandb.ai/peter_jozsef/eeg-up-down/runs/mfp0m0lt</a><br/>\n",
       "                Docs: <a href=\"https://docs.wandb.com/integrations/jupyter.html\" target=\"_blank\">https://docs.wandb.com/integrations/jupyter.html</a><br/>\n",
       "            "
      ],
      "text/plain": [
       "<IPython.core.display.HTML object>"
      ]
     },
     "metadata": {},
     "output_type": "display_data"
    }
   ],
   "source": [
    "\n"
   ]
  },
  {
   "cell_type": "code",
   "execution_count": 4,
   "metadata": {},
   "outputs": [
    {
     "name": "stdout",
     "output_type": "stream",
     "text": [
      "4\n",
      "96\n"
     ]
    }
   ],
   "source": [
    "channels = np.shape(x_train)[1]\n",
    "samples = np.shape(x_train)[2]\n",
    "\n",
    "print(channels)\n",
    "print(samples)"
   ]
  },
  {
   "cell_type": "code",
   "execution_count": 5,
   "metadata": {
    "scrolled": true
   },
   "outputs": [
    {
     "name": "stdout",
     "output_type": "stream",
     "text": [
      "(132, 4, 96)\n",
      "(132,)\n",
      "(87, 4, 96)\n",
      "(87,)\n"
     ]
    }
   ],
   "source": [
    "print(np.shape(x_train))\n",
    "print(np.shape(is_up_y_train))\n",
    "print(np.shape(x_test))\n",
    "print(np.shape(is_up_y_test))"
   ]
  },
  {
   "cell_type": "code",
   "execution_count": 6,
   "metadata": {},
   "outputs": [
    {
     "name": "stdout",
     "output_type": "stream",
     "text": [
      "<class 'list'>\n",
      "<class 'numpy.ndarray'>\n"
     ]
    }
   ],
   "source": [
    "print(type(x_train))\n",
    "print(type(is_up_y_train))"
   ]
  },
  {
   "cell_type": "code",
   "execution_count": 7,
   "metadata": {},
   "outputs": [],
   "source": [
    "#converting <class 'list'> to <class 'numpy.ndarray'>\n",
    "x_train = np.asarray(x_train)\n",
    "x_test = np.asarray(x_test)"
   ]
  },
  {
   "cell_type": "code",
   "execution_count": 23,
   "metadata": {},
   "outputs": [],
   "source": [
    "# create model\n",
    "model=Sequential()\n",
    "model.add(Flatten(input_shape=(channels,samples)))\n",
    "model.add(Dense(1, activation='sigmoid'))\n",
    "model.compile(loss='mse', optimizer='adam',\n",
    "                metrics=['accuracy'])"
   ]
  },
  {
   "cell_type": "code",
   "execution_count": 24,
   "metadata": {},
   "outputs": [
    {
     "data": {
      "text/html": [
       "\n",
       "                Logging results to <a href=\"https://wandb.com\" target=\"_blank\">Weights & Biases</a>.<br/>\n",
       "                Project page: <a href=\"https://app.wandb.ai/peter_jozsef/eeg-up-down\" target=\"_blank\">https://app.wandb.ai/peter_jozsef/eeg-up-down</a><br/>\n",
       "                Run page: <a href=\"https://app.wandb.ai/peter_jozsef/eeg-up-down/runs/4oqw5dlo\" target=\"_blank\">https://app.wandb.ai/peter_jozsef/eeg-up-down/runs/4oqw5dlo</a><br/>\n",
       "                Docs: <a href=\"https://docs.wandb.com/integrations/jupyter.html\" target=\"_blank\">https://docs.wandb.com/integrations/jupyter.html</a><br/>\n",
       "            "
      ],
      "text/plain": [
       "<IPython.core.display.HTML object>"
      ]
     },
     "metadata": {},
     "output_type": "display_data"
    },
    {
     "name": "stdout",
     "output_type": "stream",
     "text": [
      "Train on 132 samples, validate on 87 samples\n",
      "Epoch 1/10\n",
      "132/132 [==============================] - 0s 680us/step - loss: 0.5606 - accuracy: 0.4394 - val_loss: 0.5975 - val_accuracy: 0.4023\n",
      "Epoch 2/10\n",
      "132/132 [==============================] - 0s 325us/step - loss: 0.5530 - accuracy: 0.4470 - val_loss: 0.6012 - val_accuracy: 0.3908\n",
      "Epoch 3/10\n",
      "132/132 [==============================] - 0s 320us/step - loss: 0.5530 - accuracy: 0.4470 - val_loss: 0.5988 - val_accuracy: 0.4023\n",
      "Epoch 4/10\n",
      "132/132 [==============================] - 0s 296us/step - loss: 0.5530 - accuracy: 0.4470 - val_loss: 0.6094 - val_accuracy: 0.3908\n",
      "Epoch 5/10\n",
      "132/132 [==============================] - 0s 305us/step - loss: 0.5530 - accuracy: 0.4470 - val_loss: 0.6092 - val_accuracy: 0.3908\n",
      "Epoch 6/10\n",
      "132/132 [==============================] - 0s 300us/step - loss: 0.5530 - accuracy: 0.4470 - val_loss: 0.6092 - val_accuracy: 0.3908\n",
      "Epoch 7/10\n",
      "132/132 [==============================] - 0s 311us/step - loss: 0.5530 - accuracy: 0.4470 - val_loss: 0.6092 - val_accuracy: 0.3908\n",
      "Epoch 8/10\n",
      "132/132 [==============================] - 0s 311us/step - loss: 0.5530 - accuracy: 0.4470 - val_loss: 0.6092 - val_accuracy: 0.3908\n",
      "Epoch 9/10\n",
      "132/132 [==============================] - 0s 311us/step - loss: 0.5530 - accuracy: 0.4470 - val_loss: 0.6092 - val_accuracy: 0.3908\n",
      "Epoch 10/10\n",
      "132/132 [==============================] - 0s 303us/step - loss: 0.5530 - accuracy: 0.4470 - val_loss: 0.6092 - val_accuracy: 0.3908\n"
     ]
    },
    {
     "data": {
      "text/plain": [
       "<keras.callbacks.callbacks.History at 0x19d9be76b08>"
      ]
     },
     "execution_count": 24,
     "metadata": {},
     "output_type": "execute_result"
    }
   ],
   "source": [
    "# logging code\n",
    "run = wandb.init(project=\"eeg-up-down\")\n",
    "config = run.config\n",
    "config.epochs = 10\n",
    "# Fit the model\n",
    "model.fit(x_train, is_up_y_train, epochs=config.epochs, validation_data=(x_test, is_up_y_test),\n",
    "                    callbacks=[WandbCallback(labels=labels)])"
   ]
  },
  {
   "cell_type": "code",
   "execution_count": 25,
   "metadata": {},
   "outputs": [
    {
     "name": "stdout",
     "output_type": "stream",
     "text": [
      "[[0.0000000e+00]\n",
      " [0.0000000e+00]\n",
      " [0.0000000e+00]\n",
      " [0.0000000e+00]\n",
      " [0.0000000e+00]\n",
      " [0.0000000e+00]\n",
      " [0.0000000e+00]\n",
      " [0.0000000e+00]\n",
      " [0.0000000e+00]\n",
      " [0.0000000e+00]\n",
      " [0.0000000e+00]\n",
      " [0.0000000e+00]\n",
      " [0.0000000e+00]\n",
      " [0.0000000e+00]\n",
      " [0.0000000e+00]\n",
      " [0.0000000e+00]\n",
      " [0.0000000e+00]\n",
      " [0.0000000e+00]\n",
      " [0.0000000e+00]\n",
      " [0.0000000e+00]\n",
      " [0.0000000e+00]\n",
      " [0.0000000e+00]\n",
      " [0.0000000e+00]\n",
      " [0.0000000e+00]\n",
      " [0.0000000e+00]\n",
      " [0.0000000e+00]\n",
      " [0.0000000e+00]\n",
      " [0.0000000e+00]\n",
      " [0.0000000e+00]\n",
      " [1.7523766e-05]\n",
      " [9.6289051e-01]\n",
      " [0.0000000e+00]\n",
      " [0.0000000e+00]\n",
      " [0.0000000e+00]\n",
      " [0.0000000e+00]\n",
      " [0.0000000e+00]\n",
      " [0.0000000e+00]\n",
      " [0.0000000e+00]\n",
      " [0.0000000e+00]\n",
      " [0.0000000e+00]\n",
      " [0.0000000e+00]\n",
      " [0.0000000e+00]\n",
      " [0.0000000e+00]\n",
      " [0.0000000e+00]\n",
      " [0.0000000e+00]\n",
      " [0.0000000e+00]\n",
      " [0.0000000e+00]\n",
      " [0.0000000e+00]\n",
      " [0.0000000e+00]\n",
      " [0.0000000e+00]\n",
      " [0.0000000e+00]\n",
      " [0.0000000e+00]\n",
      " [0.0000000e+00]\n",
      " [0.0000000e+00]\n",
      " [0.0000000e+00]\n",
      " [0.0000000e+00]\n",
      " [0.0000000e+00]\n",
      " [0.0000000e+00]\n",
      " [0.0000000e+00]\n",
      " [0.0000000e+00]\n",
      " [0.0000000e+00]\n",
      " [0.0000000e+00]\n",
      " [0.0000000e+00]\n",
      " [0.0000000e+00]\n",
      " [0.0000000e+00]\n",
      " [0.0000000e+00]\n",
      " [0.0000000e+00]\n",
      " [0.0000000e+00]\n",
      " [0.0000000e+00]\n",
      " [0.0000000e+00]\n",
      " [0.0000000e+00]\n",
      " [0.0000000e+00]\n",
      " [0.0000000e+00]\n",
      " [0.0000000e+00]\n",
      " [0.0000000e+00]\n",
      " [0.0000000e+00]\n",
      " [0.0000000e+00]\n",
      " [0.0000000e+00]\n",
      " [0.0000000e+00]\n",
      " [0.0000000e+00]\n",
      " [0.0000000e+00]\n",
      " [0.0000000e+00]\n",
      " [6.9593976e-04]\n",
      " [0.0000000e+00]\n",
      " [0.0000000e+00]\n",
      " [0.0000000e+00]\n",
      " [0.0000000e+00]]\n",
      "[False  True False False False  True False  True  True  True False False\n",
      "  True False  True False  True  True  True  True False  True  True  True\n",
      " False  True  True  True False False  True  True  True  True  True False\n",
      "  True  True  True  True  True False  True False  True  True  True False\n",
      "  True False False  True  True False  True False  True False  True  True\n",
      "  True  True  True  True False  True  True False  True  True False  True\n",
      " False  True False  True False False False  True  True False  True  True\n",
      "  True False False]\n"
     ]
    }
   ],
   "source": [
    "print(model.predict(x_test[:100,:,:]))\n",
    "print(is_up_y_test[:100])"
   ]
  },
  {
   "cell_type": "code",
   "execution_count": null,
   "metadata": {},
   "outputs": [],
   "source": []
  }
 ],
 "metadata": {
  "kernelspec": {
   "display_name": "Python 3",
   "language": "python",
   "name": "python3"
  },
  "language_info": {
   "codemirror_mode": {
    "name": "ipython",
    "version": 3
   },
   "file_extension": ".py",
   "mimetype": "text/x-python",
   "name": "python",
   "nbconvert_exporter": "python",
   "pygments_lexer": "ipython3",
   "version": "3.7.4"
  }
 },
 "nbformat": 4,
 "nbformat_minor": 2
}
