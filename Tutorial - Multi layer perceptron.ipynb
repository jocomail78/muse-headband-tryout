{
 "cells": [
  {
   "cell_type": "code",
   "execution_count": 1,
   "metadata": {},
   "outputs": [
    {
     "name": "stderr",
     "output_type": "stream",
     "text": [
      "Using TensorFlow backend.\n"
     ]
    }
   ],
   "source": [
    "from keras.datasets import mnist\n",
    "from keras.models import Sequential\n",
    "from keras.layers import Dense, Flatten, Dropout\n",
    "from keras.utils import np_utils\n",
    "\n",
    "import wandb\n",
    "from wandb.keras import WandbCallback\n",
    "\n",
    "import numpy as np"
   ]
  },
  {
   "cell_type": "code",
   "execution_count": 2,
   "metadata": {},
   "outputs": [],
   "source": [
    "# load data\n",
    "(X_train, y_train), (X_test, y_test) = mnist.load_data()\n",
    "\n",
    "X_train = X_train.astype(\"float\")\n",
    "X_test = X_test.astype(\"float\")\n",
    "\n",
    "X_train /= 255.\n",
    "X_test /= 255.\n",
    "\n",
    "img_width = X_train.shape[1]\n",
    "img_height = X_train.shape[2]"
   ]
  },
  {
   "cell_type": "code",
   "execution_count": 3,
   "metadata": {
    "scrolled": true
   },
   "outputs": [
    {
     "name": "stdout",
     "output_type": "stream",
     "text": [
      "(60000,)\n",
      "(10000,)\n"
     ]
    }
   ],
   "source": [
    "print(np.shape(y_train))\n",
    "print(np.shape(y_test))"
   ]
  },
  {
   "cell_type": "code",
   "execution_count": 4,
   "metadata": {},
   "outputs": [
    {
     "name": "stdout",
     "output_type": "stream",
     "text": [
      "(60000, 10)\n",
      "(10000, 10)\n"
     ]
    }
   ],
   "source": [
    "# one hot encode outputs\n",
    "y_train = np_utils.to_categorical(y_train)\n",
    "y_test = np_utils.to_categorical(y_test)\n",
    "labels = [\"Zero\", \"One\", \"Two\", \"Three\", \"Four\", \"Five\", \"Six\", \"Seven\", \"Eight\", \"Nine\"]\n",
    "\n",
    "num_classes = y_train.shape[1]\n",
    "\n",
    "print(np.shape(y_train))\n",
    "print(np.shape(y_test))"
   ]
  },
  {
   "cell_type": "code",
   "execution_count": 5,
   "metadata": {},
   "outputs": [
    {
     "data": {
      "text/html": [
       "\n",
       "                Logging results to <a href=\"https://wandb.com\" target=\"_blank\">Weights & Biases</a>.<br/>\n",
       "                Project page: <a href=\"https://app.wandb.ai/peter_jozsef/w-b-tutorials\" target=\"_blank\">https://app.wandb.ai/peter_jozsef/w-b-tutorials</a><br/>\n",
       "                Run page: <a href=\"https://app.wandb.ai/peter_jozsef/w-b-tutorials/runs/1x9atyyx\" target=\"_blank\">https://app.wandb.ai/peter_jozsef/w-b-tutorials/runs/1x9atyyx</a><br/>\n",
       "                Docs: <a href=\"https://docs.wandb.com/integrations/jupyter.html\" target=\"_blank\">https://docs.wandb.com/integrations/jupyter.html</a><br/>\n",
       "            "
      ],
      "text/plain": [
       "<IPython.core.display.HTML object>"
      ]
     },
     "metadata": {},
     "output_type": "display_data"
    }
   ],
   "source": [
    "run = wandb.init(project=\"w-b-tutorials\")\n",
    "config = run.config\n",
    "config.epochs = 10"
   ]
  },
  {
   "cell_type": "code",
   "execution_count": 6,
   "metadata": {},
   "outputs": [],
   "source": [
    "# create model\n",
    "model=Sequential()\n",
    "model.add(Flatten(input_shape=(img_width,img_height)))\n",
    "model.add(Dense(num_classes, activation='softmax'))\n",
    "model.compile(loss='categorical_crossentropy', optimizer='adam',\n",
    "                metrics=['accuracy'])"
   ]
  },
  {
   "cell_type": "code",
   "execution_count": 7,
   "metadata": {},
   "outputs": [
    {
     "name": "stdout",
     "output_type": "stream",
     "text": [
      "Train on 60000 samples, validate on 10000 samples\n",
      "Epoch 1/10\n",
      "60000/60000 [==============================] - 2s 28us/step - loss: 0.4617 - accuracy: 0.8810 - val_loss: 0.3058 - val_accuracy: 0.9154\n",
      "Epoch 2/10\n",
      "60000/60000 [==============================] - 2s 28us/step - loss: 0.3035 - accuracy: 0.9153 - val_loss: 0.2807 - val_accuracy: 0.9216\n",
      "Epoch 3/10\n",
      "60000/60000 [==============================] - 2s 27us/step - loss: 0.2836 - accuracy: 0.9204 - val_loss: 0.2756 - val_accuracy: 0.9233\n",
      "Epoch 4/10\n",
      "60000/60000 [==============================] - 2s 28us/step - loss: 0.2734 - accuracy: 0.9239 - val_loss: 0.2699 - val_accuracy: 0.9239\n",
      "Epoch 5/10\n",
      "60000/60000 [==============================] - 2s 27us/step - loss: 0.2668 - accuracy: 0.9258 - val_loss: 0.2671 - val_accuracy: 0.9252\n",
      "Epoch 6/10\n",
      "60000/60000 [==============================] - 2s 27us/step - loss: 0.2624 - accuracy: 0.9276 - val_loss: 0.2662 - val_accuracy: 0.9274\n",
      "Epoch 7/10\n",
      "60000/60000 [==============================] - 2s 27us/step - loss: 0.2587 - accuracy: 0.9285 - val_loss: 0.2656 - val_accuracy: 0.9256\n",
      "Epoch 8/10\n",
      "60000/60000 [==============================] - 2s 28us/step - loss: 0.2556 - accuracy: 0.9298 - val_loss: 0.2639 - val_accuracy: 0.9280\n",
      "Epoch 9/10\n",
      "60000/60000 [==============================] - 2s 27us/step - loss: 0.2528 - accuracy: 0.9299 - val_loss: 0.2647 - val_accuracy: 0.9276\n",
      "Epoch 10/10\n",
      "60000/60000 [==============================] - 2s 27us/step - loss: 0.2508 - accuracy: 0.9308 - val_loss: 0.2647 - val_accuracy: 0.9266\n"
     ]
    },
    {
     "data": {
      "text/plain": [
       "<keras.callbacks.callbacks.History at 0x249832acc48>"
      ]
     },
     "execution_count": 7,
     "metadata": {},
     "output_type": "execute_result"
    }
   ],
   "source": [
    "# Fit the model\n",
    "model.fit(X_train, y_train, epochs=10, validation_data=(X_test, y_test),\n",
    "                    callbacks=[WandbCallback(labels=labels, data_type=\"image\")])"
   ]
  },
  {
   "cell_type": "code",
   "execution_count": 11,
   "metadata": {},
   "outputs": [
    {
     "name": "stdout",
     "output_type": "stream",
     "text": [
      "[[5.4781623e-07 1.9292619e-12 1.2475809e-06 2.8606316e-03 1.7451261e-07\n",
      "  2.3614439e-05 4.4280001e-12 9.9685115e-01 1.1624271e-05 2.5102930e-04]\n",
      " [6.4163782e-05 1.6713326e-06 9.9376351e-01 2.6517737e-05 4.0621430e-15\n",
      "  2.3055980e-03 3.8097897e-03 4.8936305e-19 2.8788409e-05 1.0223524e-15]\n",
      " [5.9874031e-07 9.8353255e-01 9.9867694e-03 1.8097264e-03 1.0919757e-04\n",
      "  6.5780903e-04 8.5924298e-04 2.9977871e-04 2.5745989e-03 1.6979109e-04]\n",
      " [9.9981135e-01 6.3080179e-12 4.0727769e-05 1.0341431e-06 2.0641410e-08\n",
      "  4.5234239e-05 8.2406710e-05 3.6074628e-06 5.9485178e-06 9.6828489e-06]\n",
      " [3.6421767e-04 8.5662400e-08 1.0455188e-03 1.3229862e-05 9.6861792e-01\n",
      "  1.2270849e-04 1.4565012e-03 1.9140254e-03 2.8022928e-03 2.3663443e-02]\n",
      " [3.2612093e-08 9.9340713e-01 1.2032177e-03 6.6384592e-04 7.7329987e-06\n",
      "  2.5253206e-05 8.9013656e-06 3.1144617e-03 1.3374013e-03 2.3222197e-04]\n",
      " [6.6421990e-07 2.3622393e-08 1.8777325e-07 5.0328188e-05 9.8316288e-01\n",
      "  3.2999988e-03 1.6594542e-05 8.7467663e-04 6.0573216e-03 6.5373448e-03]\n",
      " [4.8171214e-09 8.5465824e-03 1.4463175e-04 2.2887067e-04 4.8483056e-03\n",
      "  8.3399657e-03 4.7468125e-06 3.3153201e-04 1.1959018e-03 9.7635943e-01]\n",
      " [5.6683559e-05 1.0690654e-10 1.7776541e-06 2.0154736e-10 2.3600207e-04\n",
      "  3.9160269e-04 9.9927384e-01 3.6812107e-12 4.0131083e-05 4.0908232e-09]\n",
      " [9.6175498e-08 4.5704291e-12 2.1670155e-09 7.6536168e-07 2.6191741e-02\n",
      "  4.1636749e-06 5.1746152e-10 3.5749517e-02 1.0262014e-03 9.3702757e-01]]\n",
      "[[0. 0. 0. 0. 0. 0. 0. 1. 0. 0.]\n",
      " [0. 0. 1. 0. 0. 0. 0. 0. 0. 0.]\n",
      " [0. 1. 0. 0. 0. 0. 0. 0. 0. 0.]\n",
      " [1. 0. 0. 0. 0. 0. 0. 0. 0. 0.]\n",
      " [0. 0. 0. 0. 1. 0. 0. 0. 0. 0.]\n",
      " [0. 1. 0. 0. 0. 0. 0. 0. 0. 0.]\n",
      " [0. 0. 0. 0. 1. 0. 0. 0. 0. 0.]\n",
      " [0. 0. 0. 0. 0. 0. 0. 0. 0. 1.]\n",
      " [0. 0. 0. 0. 0. 1. 0. 0. 0. 0.]\n",
      " [0. 0. 0. 0. 0. 0. 0. 0. 0. 1.]]\n"
     ]
    }
   ],
   "source": [
    "print(model.predict(X_test[:10,:,:]))\n",
    "print(y_test[:10])"
   ]
  },
  {
   "cell_type": "code",
   "execution_count": null,
   "metadata": {},
   "outputs": [],
   "source": []
  }
 ],
 "metadata": {
  "kernelspec": {
   "display_name": "Python 3",
   "language": "python",
   "name": "python3"
  },
  "language_info": {
   "codemirror_mode": {
    "name": "ipython",
    "version": 3
   },
   "file_extension": ".py",
   "mimetype": "text/x-python",
   "name": "python",
   "nbconvert_exporter": "python",
   "pygments_lexer": "ipython3",
   "version": "3.7.4"
  }
 },
 "nbformat": 4,
 "nbformat_minor": 2
}
