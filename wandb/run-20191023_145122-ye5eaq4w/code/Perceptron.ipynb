{
 "cells": [
  {
   "cell_type": "code",
   "execution_count": 1,
   "metadata": {},
   "outputs": [
    {
     "name": "stderr",
     "output_type": "stream",
     "text": [
      "Using TensorFlow backend.\n"
     ]
    }
   ],
   "source": [
    "import os\n",
    "import csv\n",
    "import math\n",
    "import wandb\n",
    "import numpy as np\n",
    "from pathlib import Path \n",
    "\n",
    "from keras.utils import np_utils\n",
    "from keras.datasets import mnist\n",
    "from keras.models import Sequential\n",
    "from wandb.keras import WandbCallback\n",
    "from keras.layers import Dense, Flatten, Dropout"
   ]
  },
  {
   "cell_type": "code",
   "execution_count": 2,
   "metadata": {},
   "outputs": [],
   "source": [
    "#Getting the latest file from the folder\n",
    "record_path = Path(\"RecordSummary\")\n",
    "training_data_list = list(filter(os.path.isfile,record_path.glob('*.csv')))\n",
    "training_data_list.sort(key=lambda x: os.path.getmtime(x))\n",
    "training_data = training_data_list[-1]\n",
    "\n",
    "x_train_percent = 60\n",
    "x_test_percent = 100-x_train_percent\n",
    "x_train = []\n",
    "x_test = []\n",
    "y_train = []\n",
    "y_test = []\n",
    "\n",
    "with open(training_data) as csv_file:\n",
    "    data = list(csv.reader(csv_file))\n",
    "    lines = list(map(list, zip(*data)))\n",
    "\n",
    "nr_x_train = math.ceil(len(lines[0])*x_train_percent/100)\n",
    "lines = np.asarray(lines)\n",
    "\n",
    "\n",
    "#X stands for input, Y stands for output\n",
    "\n",
    "x_train = lines[1:, 0:nr_x_train]\n",
    "y_train = lines[0, 0:nr_x_train]\n",
    "\n",
    "x_test = lines[1:, nr_x_train:] \n",
    "y_test = lines[0, nr_x_train:]\n",
    "x_train = x_train.transpose()\n",
    "x_test = x_test.transpose()\n",
    "\n",
    "x_train = [a.reshape(4,96) for a in x_train]\n",
    "x_test = [a.reshape(4,96) for a in x_test]\n",
    "\n",
    "is_up_y_train = y_train=='up'\n",
    "is_up_y_test = y_test=='up'\n",
    "labels = [\"Not UP\", \"UP\"]"
   ]
  },
  {
   "cell_type": "code",
   "execution_count": 3,
   "metadata": {},
   "outputs": [
    {
     "data": {
      "text/html": [
       "\n",
       "                Logging results to <a href=\"https://wandb.com\" target=\"_blank\">Weights & Biases</a>.<br/>\n",
       "                Project page: <a href=\"https://app.wandb.ai/peter_jozsef/eeg-up-down\" target=\"_blank\">https://app.wandb.ai/peter_jozsef/eeg-up-down</a><br/>\n",
       "                Run page: <a href=\"https://app.wandb.ai/peter_jozsef/eeg-up-down/runs/mfp0m0lt\" target=\"_blank\">https://app.wandb.ai/peter_jozsef/eeg-up-down/runs/mfp0m0lt</a><br/>\n",
       "                Docs: <a href=\"https://docs.wandb.com/integrations/jupyter.html\" target=\"_blank\">https://docs.wandb.com/integrations/jupyter.html</a><br/>\n",
       "            "
      ],
      "text/plain": [
       "<IPython.core.display.HTML object>"
      ]
     },
     "metadata": {},
     "output_type": "display_data"
    }
   ],
   "source": [
    "# logging code\n",
    "run = wandb.init(project=\"eeg-up-down\")\n",
    "config = run.config\n"
   ]
  },
  {
   "cell_type": "code",
   "execution_count": 4,
   "metadata": {},
   "outputs": [
    {
     "name": "stdout",
     "output_type": "stream",
     "text": [
      "4\n",
      "96\n"
     ]
    }
   ],
   "source": [
    "channels = np.shape(x_train)[1]\n",
    "samples = np.shape(x_train)[2]\n",
    "\n",
    "print(channels)\n",
    "print(samples)"
   ]
  },
  {
   "cell_type": "code",
   "execution_count": 5,
   "metadata": {
    "scrolled": true
   },
   "outputs": [
    {
     "name": "stdout",
     "output_type": "stream",
     "text": [
      "(132, 4, 96)\n",
      "(132,)\n",
      "(87, 4, 96)\n",
      "(87,)\n"
     ]
    }
   ],
   "source": [
    "print(np.shape(x_train))\n",
    "print(np.shape(is_up_y_train))\n",
    "print(np.shape(x_test))\n",
    "print(np.shape(is_up_y_test))"
   ]
  },
  {
   "cell_type": "code",
   "execution_count": 6,
   "metadata": {},
   "outputs": [
    {
     "name": "stdout",
     "output_type": "stream",
     "text": [
      "<class 'list'>\n",
      "<class 'numpy.ndarray'>\n"
     ]
    }
   ],
   "source": [
    "print(type(x_train))\n",
    "print(type(is_up_y_train))"
   ]
  },
  {
   "cell_type": "code",
   "execution_count": 7,
   "metadata": {},
   "outputs": [],
   "source": [
    "#converting <class 'list'> to <class 'numpy.ndarray'>\n",
    "x_train = np.asarray(x_train)\n",
    "x_test = np.asarray(x_test)"
   ]
  },
  {
   "cell_type": "code",
   "execution_count": 8,
   "metadata": {},
   "outputs": [],
   "source": [
    "# create model\n",
    "model=Sequential()\n",
    "model.add(Flatten(input_shape=(channels,samples)))\n",
    "model.add(Dense(1))\n",
    "model.compile(loss='mse', optimizer='adam',\n",
    "                metrics=['accuracy'])"
   ]
  },
  {
   "cell_type": "code",
   "execution_count": 11,
   "metadata": {},
   "outputs": [
    {
     "name": "stdout",
     "output_type": "stream",
     "text": [
      "Train on 132 samples, validate on 87 samples\n",
      "Epoch 1/10\n",
      "132/132 [==============================] - 1s 10ms/step - loss: 111.3758 - accuracy: 0.0530 - val_loss: 1552.2386 - val_accuracy: 0.0115\n",
      "Epoch 2/10\n",
      "132/132 [==============================] - 0s 296us/step - loss: 94.4200 - accuracy: 0.0076 - val_loss: 1584.6151 - val_accuracy: 0.0230\n",
      "Epoch 3/10\n",
      "132/132 [==============================] - 0s 303us/step - loss: 80.4011 - accuracy: 0.0455 - val_loss: 1456.4386 - val_accuracy: 0.0345\n",
      "Epoch 4/10\n",
      "132/132 [==============================] - 0s 296us/step - loss: 76.7734 - accuracy: 0.0152 - val_loss: 1277.9333 - val_accuracy: 0.0575\n"
     ]
    },
    {
     "name": "stderr",
     "output_type": "stream",
     "text": [
      "C:\\Users\\jocom\\Anaconda3\\lib\\site-packages\\keras\\callbacks\\callbacks.py:95: RuntimeWarning: Method (on_train_batch_end) is slow compared to the batch update (1.335608). Check your callbacks.\n",
      "  % (hook_name, delta_t_median), RuntimeWarning)\n",
      "C:\\Users\\jocom\\Anaconda3\\lib\\site-packages\\keras\\callbacks\\callbacks.py:95: RuntimeWarning: Method (on_train_batch_end) is slow compared to the batch update (0.668293). Check your callbacks.\n",
      "  % (hook_name, delta_t_median), RuntimeWarning)\n"
     ]
    },
    {
     "name": "stdout",
     "output_type": "stream",
     "text": [
      "Epoch 5/10\n",
      "132/132 [==============================] - 0s 311us/step - loss: 80.3732 - accuracy: 0.0227 - val_loss: 1165.1611 - val_accuracy: 0.0460\n",
      "Epoch 6/10\n",
      "132/132 [==============================] - 0s 296us/step - loss: 75.2962 - accuracy: 0.0076 - val_loss: 1153.8724 - val_accuracy: 0.0345\n",
      "Epoch 7/10\n",
      "132/132 [==============================] - 0s 303us/step - loss: 77.3364 - accuracy: 0.0758 - val_loss: 1033.1155 - val_accuracy: 0.0805\n",
      "Epoch 8/10\n",
      "132/132 [==============================] - 0s 296us/step - loss: 71.4041 - accuracy: 0.0227 - val_loss: 1002.6828 - val_accuracy: 0.0805\n",
      "Epoch 9/10\n",
      "132/132 [==============================] - 0s 296us/step - loss: 65.4124 - accuracy: 0.0303 - val_loss: 1017.9158 - val_accuracy: 0.0575\n",
      "Epoch 10/10\n",
      "132/132 [==============================] - 0s 311us/step - loss: 63.3340 - accuracy: 0.0379 - val_loss: 958.0211 - val_accuracy: 0.0690\n"
     ]
    },
    {
     "data": {
      "text/plain": [
       "<keras.callbacks.callbacks.History at 0x19d9969af08>"
      ]
     },
     "execution_count": 11,
     "metadata": {},
     "output_type": "execute_result"
    }
   ],
   "source": [
    "config.epochs = 1000\n",
    "# Fit the model\n",
    "model.fit(x_train, is_up_y_train, epochs=config.epochs, validation_data=(x_test, is_up_y_test),\n",
    "                    callbacks=[WandbCallback(labels=labels)])"
   ]
  },
  {
   "cell_type": "code",
   "execution_count": null,
   "metadata": {},
   "outputs": [],
   "source": []
  }
 ],
 "metadata": {
  "kernelspec": {
   "display_name": "Python 3",
   "language": "python",
   "name": "python3"
  },
  "language_info": {
   "codemirror_mode": {
    "name": "ipython",
    "version": 3
   },
   "file_extension": ".py",
   "mimetype": "text/x-python",
   "name": "python",
   "nbconvert_exporter": "python",
   "pygments_lexer": "ipython3",
   "version": "3.7.4"
  }
 },
 "nbformat": 4,
 "nbformat_minor": 2
}
