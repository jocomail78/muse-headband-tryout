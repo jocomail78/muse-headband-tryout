{
 "cells": [
  {
   "cell_type": "code",
   "execution_count": 1,
   "metadata": {},
   "outputs": [
    {
     "name": "stderr",
     "output_type": "stream",
     "text": [
      "Using TensorFlow backend.\n"
     ]
    }
   ],
   "source": [
    "import os\n",
    "import csv\n",
    "import math\n",
    "import wandb\n",
    "import numpy as np\n",
    "from pathlib import Path \n",
    "\n",
    "from keras.utils import np_utils\n",
    "from keras.datasets import mnist\n",
    "from keras.models import Sequential\n",
    "from wandb.keras import WandbCallback\n",
    "from keras.layers import Dense, Flatten, Dropout"
   ]
  },
  {
   "cell_type": "code",
   "execution_count": 2,
   "metadata": {},
   "outputs": [],
   "source": [
    "#Getting the latest file from the folder\n",
    "record_path = Path(\"RecordSummary\")\n",
    "training_data_list = list(filter(os.path.isfile,record_path.glob('*.csv')))\n",
    "training_data_list.sort(key=lambda x: os.path.getmtime(x))\n",
    "training_data = training_data_list[-1]\n",
    "\n",
    "x_train_percent = 60\n",
    "x_test_percent = 100-x_train_percent\n",
    "x_train = []\n",
    "x_test = []\n",
    "y_train = []\n",
    "y_test = []\n",
    "\n",
    "with open(training_data) as csv_file:\n",
    "    data = list(csv.reader(csv_file))\n",
    "    lines = list(map(list, zip(*data)))\n",
    "\n",
    "nr_x_train = math.ceil(len(lines[0])*x_train_percent/100)\n",
    "lines = np.asarray(lines)\n",
    "\n",
    "\n",
    "#X stands for input, Y stands for output\n",
    "\n",
    "x_train = lines[1:, 0:nr_x_train]\n",
    "y_train = lines[0, 0:nr_x_train]\n",
    "\n",
    "x_test = lines[1:, nr_x_train:] \n",
    "y_test = lines[0, nr_x_train:]\n",
    "x_train = x_train.transpose()\n",
    "x_test = x_test.transpose()\n",
    "\n",
    "x_train = [a.reshape(4,96) for a in x_train]\n",
    "x_test = [a.reshape(4,96) for a in x_test]\n",
    "\n",
    "is_up_y_train = y_train=='up'\n",
    "is_up_y_test = y_test=='up'\n",
    "labels = [\"Not UP\", \"UP\"]"
   ]
  },
  {
   "cell_type": "code",
   "execution_count": 3,
   "metadata": {},
   "outputs": [
    {
     "data": {
      "text/html": [
       "\n",
       "                Logging results to <a href=\"https://wandb.com\" target=\"_blank\">Weights & Biases</a>.<br/>\n",
       "                Project page: <a href=\"https://app.wandb.ai/peter_jozsef/eeg-up-down\" target=\"_blank\">https://app.wandb.ai/peter_jozsef/eeg-up-down</a><br/>\n",
       "                Run page: <a href=\"https://app.wandb.ai/peter_jozsef/eeg-up-down/runs/mfp0m0lt\" target=\"_blank\">https://app.wandb.ai/peter_jozsef/eeg-up-down/runs/mfp0m0lt</a><br/>\n",
       "                Docs: <a href=\"https://docs.wandb.com/integrations/jupyter.html\" target=\"_blank\">https://docs.wandb.com/integrations/jupyter.html</a><br/>\n",
       "            "
      ],
      "text/plain": [
       "<IPython.core.display.HTML object>"
      ]
     },
     "metadata": {},
     "output_type": "display_data"
    }
   ],
   "source": [
    "\n"
   ]
  },
  {
   "cell_type": "code",
   "execution_count": 4,
   "metadata": {},
   "outputs": [
    {
     "name": "stdout",
     "output_type": "stream",
     "text": [
      "4\n",
      "96\n"
     ]
    }
   ],
   "source": [
    "channels = np.shape(x_train)[1]\n",
    "samples = np.shape(x_train)[2]\n",
    "\n",
    "print(channels)\n",
    "print(samples)"
   ]
  },
  {
   "cell_type": "code",
   "execution_count": 5,
   "metadata": {
    "scrolled": true
   },
   "outputs": [
    {
     "name": "stdout",
     "output_type": "stream",
     "text": [
      "(132, 4, 96)\n",
      "(132,)\n",
      "(87, 4, 96)\n",
      "(87,)\n"
     ]
    }
   ],
   "source": [
    "print(np.shape(x_train))\n",
    "print(np.shape(is_up_y_train))\n",
    "print(np.shape(x_test))\n",
    "print(np.shape(is_up_y_test))"
   ]
  },
  {
   "cell_type": "code",
   "execution_count": 6,
   "metadata": {},
   "outputs": [
    {
     "name": "stdout",
     "output_type": "stream",
     "text": [
      "<class 'list'>\n",
      "<class 'numpy.ndarray'>\n"
     ]
    }
   ],
   "source": [
    "print(type(x_train))\n",
    "print(type(is_up_y_train))"
   ]
  },
  {
   "cell_type": "code",
   "execution_count": 7,
   "metadata": {},
   "outputs": [],
   "source": [
    "#converting <class 'list'> to <class 'numpy.ndarray'>\n",
    "x_train = np.asarray(x_train)\n",
    "x_test = np.asarray(x_test)"
   ]
  },
  {
   "cell_type": "code",
   "execution_count": 23,
   "metadata": {},
   "outputs": [],
   "source": [
    "# create model\n",
    "model=Sequential()\n",
    "model.add(Flatten(input_shape=(channels,samples)))\n",
    "model.add(Dense(1, activation='sigmoid'))\n",
    "model.compile(loss='mse', optimizer='adam',\n",
    "                metrics=['accuracy'])"
   ]
  },
  {
   "cell_type": "code",
   "execution_count": 26,
   "metadata": {},
   "outputs": [
    {
     "data": {
      "text/html": [
       "\n",
       "                Logging results to <a href=\"https://wandb.com\" target=\"_blank\">Weights & Biases</a>.<br/>\n",
       "                Project page: <a href=\"https://app.wandb.ai/peter_jozsef/eeg-up-down\" target=\"_blank\">https://app.wandb.ai/peter_jozsef/eeg-up-down</a><br/>\n",
       "                Run page: <a href=\"https://app.wandb.ai/peter_jozsef/eeg-up-down/runs/ar4fs5k4\" target=\"_blank\">https://app.wandb.ai/peter_jozsef/eeg-up-down/runs/ar4fs5k4</a><br/>\n",
       "                Docs: <a href=\"https://docs.wandb.com/integrations/jupyter.html\" target=\"_blank\">https://docs.wandb.com/integrations/jupyter.html</a><br/>\n",
       "            "
      ],
      "text/plain": [
       "<IPython.core.display.HTML object>"
      ]
     },
     "metadata": {},
     "output_type": "display_data"
    },
    {
     "name": "stdout",
     "output_type": "stream",
     "text": [
      "Train on 132 samples, validate on 87 samples\n",
      "Epoch 1/100\n",
      "132/132 [==============================] - 0s 355us/step - loss: 0.5530 - accuracy: 0.4470 - val_loss: 0.6092 - val_accuracy: 0.3908\n",
      "Epoch 2/100\n",
      "132/132 [==============================] - 0s 303us/step - loss: 0.5530 - accuracy: 0.4470 - val_loss: 0.6092 - val_accuracy: 0.3908\n",
      "Epoch 3/100\n",
      "132/132 [==============================] - 0s 303us/step - loss: 0.5530 - accuracy: 0.4470 - val_loss: 0.6092 - val_accuracy: 0.3908\n",
      "Epoch 4/100\n",
      "132/132 [==============================] - 0s 303us/step - loss: 0.5530 - accuracy: 0.4470 - val_loss: 0.6092 - val_accuracy: 0.3908\n",
      "Epoch 5/100\n",
      "132/132 [==============================] - 0s 318us/step - loss: 0.5530 - accuracy: 0.4470 - val_loss: 0.6092 - val_accuracy: 0.3908\n",
      "Epoch 6/100\n",
      "132/132 [==============================] - 0s 303us/step - loss: 0.5530 - accuracy: 0.4470 - val_loss: 0.6092 - val_accuracy: 0.3908\n",
      "Epoch 7/100\n",
      "132/132 [==============================] - 0s 310us/step - loss: 0.5530 - accuracy: 0.4470 - val_loss: 0.6092 - val_accuracy: 0.3908\n",
      "Epoch 8/100\n",
      "132/132 [==============================] - 0s 301us/step - loss: 0.5530 - accuracy: 0.4470 - val_loss: 0.6092 - val_accuracy: 0.3908\n",
      "Epoch 9/100\n",
      "132/132 [==============================] - 0s 318us/step - loss: 0.5530 - accuracy: 0.4470 - val_loss: 0.6092 - val_accuracy: 0.3908\n",
      "Epoch 10/100\n",
      "132/132 [==============================] - 0s 318us/step - loss: 0.5530 - accuracy: 0.4470 - val_loss: 0.6092 - val_accuracy: 0.3908\n",
      "Epoch 11/100\n",
      "132/132 [==============================] - 0s 296us/step - loss: 0.5530 - accuracy: 0.4470 - val_loss: 0.6092 - val_accuracy: 0.3908\n",
      "Epoch 12/100\n",
      "132/132 [==============================] - 0s 296us/step - loss: 0.5530 - accuracy: 0.4470 - val_loss: 0.6092 - val_accuracy: 0.3908\n",
      "Epoch 13/100\n",
      "132/132 [==============================] - 0s 296us/step - loss: 0.5530 - accuracy: 0.4470 - val_loss: 0.6092 - val_accuracy: 0.3908\n",
      "Epoch 14/100\n",
      "132/132 [==============================] - 0s 310us/step - loss: 0.5530 - accuracy: 0.4470 - val_loss: 0.6092 - val_accuracy: 0.3908\n",
      "Epoch 15/100\n",
      "132/132 [==============================] - 0s 318us/step - loss: 0.5530 - accuracy: 0.4470 - val_loss: 0.6092 - val_accuracy: 0.3908\n",
      "Epoch 16/100\n",
      "132/132 [==============================] - 0s 311us/step - loss: 0.5530 - accuracy: 0.4470 - val_loss: 0.6092 - val_accuracy: 0.3908\n",
      "Epoch 17/100\n",
      "132/132 [==============================] - 0s 310us/step - loss: 0.5530 - accuracy: 0.4470 - val_loss: 0.6092 - val_accuracy: 0.3908\n",
      "Epoch 18/100\n",
      "132/132 [==============================] - 0s 303us/step - loss: 0.5530 - accuracy: 0.4470 - val_loss: 0.6092 - val_accuracy: 0.3908\n",
      "Epoch 19/100\n",
      "132/132 [==============================] - 0s 318us/step - loss: 0.5530 - accuracy: 0.4470 - val_loss: 0.6092 - val_accuracy: 0.3908\n",
      "Epoch 20/100\n",
      "132/132 [==============================] - 0s 311us/step - loss: 0.5530 - accuracy: 0.4470 - val_loss: 0.6092 - val_accuracy: 0.3908\n",
      "Epoch 21/100\n",
      "132/132 [==============================] - 0s 318us/step - loss: 0.5530 - accuracy: 0.4470 - val_loss: 0.6092 - val_accuracy: 0.3908\n",
      "Epoch 22/100\n",
      "132/132 [==============================] - 0s 311us/step - loss: 0.5530 - accuracy: 0.4470 - val_loss: 0.6092 - val_accuracy: 0.3908\n",
      "Epoch 23/100\n",
      "132/132 [==============================] - 0s 303us/step - loss: 0.5530 - accuracy: 0.4470 - val_loss: 0.6092 - val_accuracy: 0.3908\n",
      "Epoch 24/100\n",
      "132/132 [==============================] - 0s 311us/step - loss: 0.5530 - accuracy: 0.4470 - val_loss: 0.6092 - val_accuracy: 0.3908\n",
      "Epoch 25/100\n",
      "132/132 [==============================] - 0s 303us/step - loss: 0.5530 - accuracy: 0.4470 - val_loss: 0.6092 - val_accuracy: 0.3908\n",
      "Epoch 26/100\n",
      "132/132 [==============================] - 0s 325us/step - loss: 0.5530 - accuracy: 0.4470 - val_loss: 0.6092 - val_accuracy: 0.3908\n",
      "Epoch 27/100\n",
      "132/132 [==============================] - 0s 303us/step - loss: 0.5530 - accuracy: 0.4470 - val_loss: 0.6092 - val_accuracy: 0.3908\n",
      "Epoch 28/100\n",
      "132/132 [==============================] - 0s 310us/step - loss: 0.5530 - accuracy: 0.4470 - val_loss: 0.6092 - val_accuracy: 0.3908\n",
      "Epoch 29/100\n",
      "132/132 [==============================] - 0s 310us/step - loss: 0.5530 - accuracy: 0.4470 - val_loss: 0.6092 - val_accuracy: 0.3908\n",
      "Epoch 30/100\n",
      "132/132 [==============================] - 0s 303us/step - loss: 0.5530 - accuracy: 0.4470 - val_loss: 0.6092 - val_accuracy: 0.3908\n",
      "Epoch 31/100\n",
      "132/132 [==============================] - 0s 303us/step - loss: 0.5530 - accuracy: 0.4470 - val_loss: 0.6092 - val_accuracy: 0.3908\n",
      "Epoch 32/100\n",
      "132/132 [==============================] - 0s 295us/step - loss: 0.5530 - accuracy: 0.4470 - val_loss: 0.6092 - val_accuracy: 0.3908\n",
      "Epoch 33/100\n",
      "132/132 [==============================] - 0s 311us/step - loss: 0.5530 - accuracy: 0.4470 - val_loss: 0.6092 - val_accuracy: 0.3908\n",
      "Epoch 34/100\n",
      "132/132 [==============================] - 0s 340us/step - loss: 0.5530 - accuracy: 0.4470 - val_loss: 0.6092 - val_accuracy: 0.3908\n",
      "Epoch 35/100\n",
      "132/132 [==============================] - 0s 347us/step - loss: 0.5530 - accuracy: 0.4470 - val_loss: 0.6092 - val_accuracy: 0.3908\n",
      "Epoch 36/100\n",
      "132/132 [==============================] - 0s 301us/step - loss: 0.5530 - accuracy: 0.4470 - val_loss: 0.6092 - val_accuracy: 0.3908\n",
      "Epoch 37/100\n",
      "132/132 [==============================] - 0s 310us/step - loss: 0.5530 - accuracy: 0.4470 - val_loss: 0.6092 - val_accuracy: 0.3908\n",
      "Epoch 38/100\n",
      "132/132 [==============================] - 0s 288us/step - loss: 0.5530 - accuracy: 0.4470 - val_loss: 0.6092 - val_accuracy: 0.3908\n",
      "Epoch 39/100\n",
      "132/132 [==============================] - 0s 288us/step - loss: 0.5530 - accuracy: 0.4470 - val_loss: 0.6092 - val_accuracy: 0.3908\n",
      "Epoch 40/100\n",
      "132/132 [==============================] - 0s 303us/step - loss: 0.5530 - accuracy: 0.4470 - val_loss: 0.6092 - val_accuracy: 0.3908\n",
      "Epoch 41/100\n",
      "132/132 [==============================] - 0s 338us/step - loss: 0.5530 - accuracy: 0.4470 - val_loss: 0.6092 - val_accuracy: 0.3908\n",
      "Epoch 42/100\n",
      "132/132 [==============================] - 0s 332us/step - loss: 0.5530 - accuracy: 0.4470 - val_loss: 0.6092 - val_accuracy: 0.3908\n",
      "Epoch 43/100\n",
      "132/132 [==============================] - 0s 330us/step - loss: 0.5530 - accuracy: 0.4470 - val_loss: 0.6092 - val_accuracy: 0.3908\n",
      "Epoch 44/100\n",
      "132/132 [==============================] - 0s 318us/step - loss: 0.5530 - accuracy: 0.4470 - val_loss: 0.6092 - val_accuracy: 0.3908\n",
      "Epoch 45/100\n",
      "132/132 [==============================] - 0s 300us/step - loss: 0.5530 - accuracy: 0.4470 - val_loss: 0.6092 - val_accuracy: 0.3908\n",
      "Epoch 46/100\n",
      "132/132 [==============================] - 0s 288us/step - loss: 0.5530 - accuracy: 0.4470 - val_loss: 0.6092 - val_accuracy: 0.3908\n",
      "Epoch 47/100\n",
      "132/132 [==============================] - 0s 307us/step - loss: 0.5530 - accuracy: 0.4470 - val_loss: 0.6092 - val_accuracy: 0.3908\n",
      "Epoch 48/100\n",
      "132/132 [==============================] - 0s 311us/step - loss: 0.5530 - accuracy: 0.4470 - val_loss: 0.6092 - val_accuracy: 0.3908\n",
      "Epoch 49/100\n",
      "132/132 [==============================] - 0s 325us/step - loss: 0.5530 - accuracy: 0.4470 - val_loss: 0.6092 - val_accuracy: 0.3908\n",
      "Epoch 50/100\n",
      "132/132 [==============================] - 0s 325us/step - loss: 0.5530 - accuracy: 0.4470 - val_loss: 0.6092 - val_accuracy: 0.3908\n",
      "Epoch 51/100\n",
      "132/132 [==============================] - 0s 296us/step - loss: 0.5530 - accuracy: 0.4470 - val_loss: 0.6092 - val_accuracy: 0.3908\n",
      "Epoch 52/100\n",
      "132/132 [==============================] - 0s 296us/step - loss: 0.5530 - accuracy: 0.4470 - val_loss: 0.6092 - val_accuracy: 0.3908\n",
      "Epoch 53/100\n",
      "132/132 [==============================] - 0s 296us/step - loss: 0.5530 - accuracy: 0.4470 - val_loss: 0.6092 - val_accuracy: 0.3908\n",
      "Epoch 54/100\n",
      "132/132 [==============================] - 0s 296us/step - loss: 0.5530 - accuracy: 0.4470 - val_loss: 0.6092 - val_accuracy: 0.3908\n",
      "Epoch 55/100\n",
      "132/132 [==============================] - 0s 303us/step - loss: 0.5530 - accuracy: 0.4470 - val_loss: 0.6092 - val_accuracy: 0.3908\n",
      "Epoch 56/100\n",
      "132/132 [==============================] - 0s 303us/step - loss: 0.5530 - accuracy: 0.4470 - val_loss: 0.6092 - val_accuracy: 0.3908\n"
     ]
    },
    {
     "name": "stdout",
     "output_type": "stream",
     "text": [
      "Epoch 57/100\n",
      "132/132 [==============================] - 0s 318us/step - loss: 0.5530 - accuracy: 0.4470 - val_loss: 0.6092 - val_accuracy: 0.3908\n",
      "Epoch 58/100\n",
      "132/132 [==============================] - 0s 333us/step - loss: 0.5530 - accuracy: 0.4470 - val_loss: 0.6092 - val_accuracy: 0.3908\n",
      "Epoch 59/100\n",
      "132/132 [==============================] - 0s 318us/step - loss: 0.5530 - accuracy: 0.4470 - val_loss: 0.6092 - val_accuracy: 0.3908\n",
      "Epoch 60/100\n",
      "132/132 [==============================] - 0s 303us/step - loss: 0.5530 - accuracy: 0.4470 - val_loss: 0.6092 - val_accuracy: 0.3908\n",
      "Epoch 61/100\n",
      "132/132 [==============================] - 0s 303us/step - loss: 0.5530 - accuracy: 0.4470 - val_loss: 0.6092 - val_accuracy: 0.3908\n",
      "Epoch 62/100\n",
      "132/132 [==============================] - 0s 289us/step - loss: 0.5530 - accuracy: 0.4470 - val_loss: 0.6092 - val_accuracy: 0.3908\n",
      "Epoch 63/100\n",
      "132/132 [==============================] - 0s 296us/step - loss: 0.5530 - accuracy: 0.4470 - val_loss: 0.6092 - val_accuracy: 0.3908\n",
      "Epoch 64/100\n",
      "132/132 [==============================] - 0s 311us/step - loss: 0.5530 - accuracy: 0.4470 - val_loss: 0.6092 - val_accuracy: 0.3908\n",
      "Epoch 65/100\n",
      "132/132 [==============================] - 0s 296us/step - loss: 0.5530 - accuracy: 0.4470 - val_loss: 0.6092 - val_accuracy: 0.3908\n",
      "Epoch 66/100\n",
      "132/132 [==============================] - 0s 296us/step - loss: 0.5530 - accuracy: 0.4470 - val_loss: 0.6092 - val_accuracy: 0.3908\n",
      "Epoch 67/100\n",
      "132/132 [==============================] - 0s 311us/step - loss: 0.5530 - accuracy: 0.4470 - val_loss: 0.6092 - val_accuracy: 0.3908\n",
      "Epoch 68/100\n",
      "132/132 [==============================] - 0s 318us/step - loss: 0.5530 - accuracy: 0.4470 - val_loss: 0.6092 - val_accuracy: 0.3908\n",
      "Epoch 69/100\n",
      "132/132 [==============================] - 0s 436us/step - loss: 0.5530 - accuracy: 0.4470 - val_loss: 0.6092 - val_accuracy: 0.3908\n",
      "Epoch 70/100\n",
      "132/132 [==============================] - 0s 377us/step - loss: 0.5530 - accuracy: 0.4470 - val_loss: 0.6092 - val_accuracy: 0.3908\n",
      "Epoch 71/100\n",
      "132/132 [==============================] - 0s 359us/step - loss: 0.5530 - accuracy: 0.4470 - val_loss: 0.6092 - val_accuracy: 0.3908\n",
      "Epoch 72/100\n",
      "132/132 [==============================] - 0s 311us/step - loss: 0.5530 - accuracy: 0.4470 - val_loss: 0.6092 - val_accuracy: 0.3908\n",
      "Epoch 73/100\n",
      "132/132 [==============================] - 0s 306us/step - loss: 0.5530 - accuracy: 0.4470 - val_loss: 0.6092 - val_accuracy: 0.3908\n",
      "Epoch 74/100\n",
      "132/132 [==============================] - 0s 303us/step - loss: 0.5530 - accuracy: 0.4470 - val_loss: 0.6092 - val_accuracy: 0.3908\n",
      "Epoch 75/100\n",
      "132/132 [==============================] - 0s 296us/step - loss: 0.5530 - accuracy: 0.4470 - val_loss: 0.6092 - val_accuracy: 0.3908\n",
      "Epoch 76/100\n",
      "132/132 [==============================] - 0s 296us/step - loss: 0.5530 - accuracy: 0.4470 - val_loss: 0.6092 - val_accuracy: 0.3908\n",
      "Epoch 77/100\n",
      "132/132 [==============================] - 0s 296us/step - loss: 0.5530 - accuracy: 0.4470 - val_loss: 0.6092 - val_accuracy: 0.3908\n",
      "Epoch 78/100\n",
      "132/132 [==============================] - 0s 303us/step - loss: 0.5530 - accuracy: 0.4470 - val_loss: 0.6092 - val_accuracy: 0.3908\n",
      "Epoch 79/100\n",
      "132/132 [==============================] - 0s 296us/step - loss: 0.5530 - accuracy: 0.4470 - val_loss: 0.6092 - val_accuracy: 0.3908\n",
      "Epoch 80/100\n",
      "132/132 [==============================] - 0s 296us/step - loss: 0.5530 - accuracy: 0.4470 - val_loss: 0.6092 - val_accuracy: 0.3908\n",
      "Epoch 81/100\n",
      "132/132 [==============================] - 0s 311us/step - loss: 0.5530 - accuracy: 0.4470 - val_loss: 0.6092 - val_accuracy: 0.3908\n",
      "Epoch 82/100\n",
      "132/132 [==============================] - 0s 311us/step - loss: 0.5530 - accuracy: 0.4470 - val_loss: 0.6092 - val_accuracy: 0.3908\n",
      "Epoch 83/100\n",
      "132/132 [==============================] - 0s 310us/step - loss: 0.5530 - accuracy: 0.4470 - val_loss: 0.6092 - val_accuracy: 0.3908\n",
      "Epoch 84/100\n",
      "132/132 [==============================] - 0s 303us/step - loss: 0.5530 - accuracy: 0.4470 - val_loss: 0.6092 - val_accuracy: 0.3908\n",
      "Epoch 85/100\n",
      "132/132 [==============================] - 0s 301us/step - loss: 0.5530 - accuracy: 0.4470 - val_loss: 0.6092 - val_accuracy: 0.3908\n",
      "Epoch 86/100\n",
      "132/132 [==============================] - 0s 296us/step - loss: 0.5530 - accuracy: 0.4470 - val_loss: 0.6092 - val_accuracy: 0.3908\n",
      "Epoch 87/100\n",
      "132/132 [==============================] - 0s 302us/step - loss: 0.5530 - accuracy: 0.4470 - val_loss: 0.6092 - val_accuracy: 0.3908\n",
      "Epoch 88/100\n",
      "132/132 [==============================] - 0s 303us/step - loss: 0.5530 - accuracy: 0.4470 - val_loss: 0.6092 - val_accuracy: 0.3908\n",
      "Epoch 89/100\n",
      "132/132 [==============================] - 0s 308us/step - loss: 0.5530 - accuracy: 0.4470 - val_loss: 0.6092 - val_accuracy: 0.3908\n",
      "Epoch 90/100\n",
      "132/132 [==============================] - 0s 299us/step - loss: 0.5530 - accuracy: 0.4470 - val_loss: 0.6092 - val_accuracy: 0.3908\n",
      "Epoch 91/100\n",
      "132/132 [==============================] - 0s 303us/step - loss: 0.5530 - accuracy: 0.4470 - val_loss: 0.6092 - val_accuracy: 0.3908\n",
      "Epoch 92/100\n",
      "132/132 [==============================] - 0s 303us/step - loss: 0.5530 - accuracy: 0.4470 - val_loss: 0.6092 - val_accuracy: 0.3908\n",
      "Epoch 93/100\n",
      "132/132 [==============================] - 0s 311us/step - loss: 0.5530 - accuracy: 0.4470 - val_loss: 0.6092 - val_accuracy: 0.3908\n",
      "Epoch 94/100\n",
      "132/132 [==============================] - 0s 303us/step - loss: 0.5530 - accuracy: 0.4470 - val_loss: 0.6092 - val_accuracy: 0.3908\n",
      "Epoch 95/100\n",
      "132/132 [==============================] - 0s 326us/step - loss: 0.5530 - accuracy: 0.4470 - val_loss: 0.6092 - val_accuracy: 0.3908\n",
      "Epoch 96/100\n",
      "132/132 [==============================] - 0s 303us/step - loss: 0.5530 - accuracy: 0.4470 - val_loss: 0.6092 - val_accuracy: 0.3908\n",
      "Epoch 97/100\n",
      "132/132 [==============================] - 0s 296us/step - loss: 0.5530 - accuracy: 0.4470 - val_loss: 0.6092 - val_accuracy: 0.3908\n",
      "Epoch 98/100\n",
      "132/132 [==============================] - 0s 303us/step - loss: 0.5530 - accuracy: 0.4470 - val_loss: 0.6092 - val_accuracy: 0.3908\n",
      "Epoch 99/100\n",
      "132/132 [==============================] - 0s 303us/step - loss: 0.5530 - accuracy: 0.4470 - val_loss: 0.6092 - val_accuracy: 0.3908\n",
      "Epoch 100/100\n",
      "132/132 [==============================] - 0s 310us/step - loss: 0.5530 - accuracy: 0.4470 - val_loss: 0.6092 - val_accuracy: 0.3908\n"
     ]
    },
    {
     "data": {
      "text/plain": [
       "<keras.callbacks.callbacks.History at 0x19d9bd5cd48>"
      ]
     },
     "execution_count": 26,
     "metadata": {},
     "output_type": "execute_result"
    }
   ],
   "source": [
    "# logging code\n",
    "run = wandb.init(project=\"eeg-up-down\")\n",
    "config = run.config\n",
    "config.epochs = 100\n",
    "# Fit the model\n",
    "model.fit(x_train, is_up_y_train, epochs=config.epochs, validation_data=(x_test, is_up_y_test),\n",
    "                    callbacks=[WandbCallback(labels=labels)])"
   ]
  },
  {
   "cell_type": "code",
   "execution_count": 28,
   "metadata": {},
   "outputs": [
    {
     "name": "stdout",
     "output_type": "stream",
     "text": [
      "[[0.0000000e+00]\n",
      " [0.0000000e+00]\n",
      " [0.0000000e+00]\n",
      " [0.0000000e+00]\n",
      " [0.0000000e+00]\n",
      " [0.0000000e+00]\n",
      " [0.0000000e+00]\n",
      " [0.0000000e+00]\n",
      " [0.0000000e+00]\n",
      " [0.0000000e+00]\n",
      " [0.0000000e+00]\n",
      " [0.0000000e+00]\n",
      " [0.0000000e+00]\n",
      " [0.0000000e+00]\n",
      " [0.0000000e+00]\n",
      " [0.0000000e+00]\n",
      " [0.0000000e+00]\n",
      " [0.0000000e+00]\n",
      " [0.0000000e+00]\n",
      " [1.9639730e-05]\n",
      " [9.6634305e-01]\n",
      " [0.0000000e+00]\n",
      " [0.0000000e+00]\n",
      " [0.0000000e+00]\n",
      " [0.0000000e+00]\n",
      " [0.0000000e+00]\n",
      " [0.0000000e+00]\n",
      " [0.0000000e+00]\n",
      " [0.0000000e+00]\n",
      " [0.0000000e+00]\n",
      " [0.0000000e+00]\n",
      " [0.0000000e+00]\n",
      " [0.0000000e+00]\n",
      " [0.0000000e+00]\n",
      " [0.0000000e+00]\n",
      " [0.0000000e+00]\n",
      " [0.0000000e+00]\n",
      " [0.0000000e+00]\n",
      " [0.0000000e+00]\n",
      " [0.0000000e+00]]\n",
      "[False False  True False  True False  True  True  True  True False  True\n",
      "  True  True False  True  True  True False False  True  True  True  True\n",
      "  True False  True  True  True  True  True False  True False  True  True\n",
      "  True False  True False]\n"
     ]
    }
   ],
   "source": [
    "print(model.predict(x_test[10:50,:,:]))\n",
    "print(is_up_y_test[10:50])"
   ]
  },
  {
   "cell_type": "code",
   "execution_count": null,
   "metadata": {},
   "outputs": [],
   "source": []
  }
 ],
 "metadata": {
  "kernelspec": {
   "display_name": "Python 3",
   "language": "python",
   "name": "python3"
  },
  "language_info": {
   "codemirror_mode": {
    "name": "ipython",
    "version": 3
   },
   "file_extension": ".py",
   "mimetype": "text/x-python",
   "name": "python",
   "nbconvert_exporter": "python",
   "pygments_lexer": "ipython3",
   "version": "3.7.4"
  }
 },
 "nbformat": 4,
 "nbformat_minor": 2
}
