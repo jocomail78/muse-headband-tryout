{
 "cells": [
  {
   "cell_type": "code",
   "execution_count": null,
   "metadata": {},
   "outputs": [
    {
     "name": "stderr",
     "output_type": "stream",
     "text": [
      "Using TensorFlow backend.\n"
     ]
    }
   ],
   "source": [
    "import os\n",
    "import csv\n",
    "import math\n",
    "import wandb\n",
    "import numpy as np\n",
    "from pathlib import Path \n",
    "\n",
    "import matplotlib.pyplot as plt\n",
    "\n",
    "from keras.utils import np_utils\n",
    "from keras.datasets import mnist\n",
    "from keras.models import Sequential\n",
    "from wandb.keras import WandbCallback\n",
    "from keras.layers import Dense, Flatten, Dropout"
   ]
  },
  {
   "cell_type": "code",
   "execution_count": null,
   "metadata": {},
   "outputs": [],
   "source": [
    "#Getting the latest file from the folder\n",
    "record_path = Path(\"RecordSummary\")\n",
    "training_data_list = list(filter(os.path.isfile,record_path.glob('*.csv')))\n",
    "training_data_list.sort(key=lambda x: os.path.getmtime(x))\n",
    "training_data = training_data_list[-1]\n",
    "\n",
    "x_train_percent = 60\n",
    "x_test_percent = 100-x_train_percent\n",
    "x_train = []\n",
    "x_test = []\n",
    "y_train = []\n",
    "y_test = []\n",
    "\n",
    "with open(training_data) as csv_file:\n",
    "    data = list(csv.reader(csv_file))\n",
    "    lines = list(map(list, zip(*data)))\n",
    "\n",
    "nr_x_train = math.ceil(len(lines[0])*x_train_percent/100)\n",
    "lines = np.asarray(lines)\n",
    "\n",
    "#X stands for input, Y stands for output\n",
    "\n",
    "x_train = lines[1:, 0:nr_x_train]\n",
    "y_train = lines[0, 0:nr_x_train]\n",
    "\n",
    "x_test = lines[1:, nr_x_train:] \n",
    "y_test = lines[0, nr_x_train:]\n",
    "x_train = x_train.transpose()\n",
    "x_test = x_test.transpose()\n",
    "\n",
    "x_train = [a.reshape(4,96) for a in x_train]\n",
    "x_test = [a.reshape(4,96) for a in x_test]"
   ]
  },
  {
   "cell_type": "code",
   "execution_count": null,
   "metadata": {},
   "outputs": [],
   "source": [
    "#preparing the output for categorical crossentropy\n",
    "print(np.unique(y_train))\n",
    "y_train = np.where(y_train=='down', 0, y_train) \n",
    "y_train = np.where(y_train=='up', 1, y_train) \n",
    "\n",
    "y_test = np.where(y_test=='down', 0, y_test) \n",
    "y_test = np.where(y_test=='up', 1, y_test) \n",
    "print(np.unique(y_train))"
   ]
  },
  {
   "cell_type": "code",
   "execution_count": null,
   "metadata": {},
   "outputs": [],
   "source": [
    "channels = np.shape(x_train)[1]\n",
    "samples = np.shape(x_train)[2]\n",
    "\n",
    "print(channels)\n",
    "print(samples)"
   ]
  },
  {
   "cell_type": "code",
   "execution_count": null,
   "metadata": {
    "scrolled": true
   },
   "outputs": [],
   "source": [
    "print(np.shape(x_train))\n",
    "print(np.shape(y_train))\n",
    "print(np.shape(x_test))\n",
    "print(np.shape(y_test))"
   ]
  },
  {
   "cell_type": "code",
   "execution_count": null,
   "metadata": {},
   "outputs": [],
   "source": [
    "print(type(x_train))\n",
    "print(type(y_train))"
   ]
  },
  {
   "cell_type": "code",
   "execution_count": null,
   "metadata": {},
   "outputs": [],
   "source": [
    "#converting <class 'list'> to <class 'numpy.ndarray'>\n",
    "x_train = np.asarray(x_train)\n",
    "x_test = np.asarray(x_test)"
   ]
  },
  {
   "cell_type": "code",
   "execution_count": null,
   "metadata": {},
   "outputs": [],
   "source": [
    "# one hot encode outputs\n",
    "y_train = np_utils.to_categorical(y_train)\n",
    "y_test = np_utils.to_categorical(y_test)\n",
    "labels = [\"Down\", \"Up\"]\n",
    "\n",
    "num_classes = y_train.shape[1]\n",
    "\n",
    "print(np.shape(y_train))\n",
    "print(np.shape(y_test))"
   ]
  },
  {
   "cell_type": "code",
   "execution_count": null,
   "metadata": {},
   "outputs": [],
   "source": [
    "#Normalizing data:\n",
    "x_train = x_train.astype(\"float\")\n",
    "x_test = x_test.astype(\"float\")\n",
    "merge = np.vstack((x_train, x_test))\n",
    "minval = np.amin(merge)\n",
    "maxval = np.amax(merge)\n",
    "print(f'Min: {minval}, Max:{maxval}')\n",
    "x_train = (x_train-minval)/(maxval-minval)\n",
    "x_test = (x_test-minval)/(maxval-minval)"
   ]
  },
  {
   "cell_type": "code",
   "execution_count": null,
   "metadata": {},
   "outputs": [],
   "source": [
    "# create model\n",
    "model=Sequential()\n",
    "model.add(Flatten(input_shape=(channels,samples)))\n",
    "model.add(Dense(num_classes, activation='softmax'))\n",
    "model.compile(loss='categorical_crossentropy', optimizer='adam',\n",
    "                metrics=['accuracy'])"
   ]
  },
  {
   "cell_type": "code",
   "execution_count": null,
   "metadata": {},
   "outputs": [],
   "source": [
    "# logging code\n",
    "run = wandb.init(project=\"eeg-up-down\")\n",
    "config = run.config\n",
    "config.epochs = 1000\n",
    "# Fit the model\n",
    "model.fit(x_train, y_train, epochs=config.epochs, validation_data=(x_test, y_test),\n",
    "                    callbacks=[WandbCallback(labels=labels)])"
   ]
  },
  {
   "cell_type": "code",
   "execution_count": null,
   "metadata": {},
   "outputs": [],
   "source": [
    "print(model.predict(x_test[:10,:,:]))\n",
    "print(y_test[:10])"
   ]
  },
  {
   "cell_type": "code",
   "execution_count": null,
   "metadata": {},
   "outputs": [],
   "source": []
  }
 ],
 "metadata": {
  "kernelspec": {
   "display_name": "Python 3",
   "language": "python",
   "name": "python3"
  },
  "language_info": {
   "codemirror_mode": {
    "name": "ipython",
    "version": 3
   },
   "file_extension": ".py",
   "mimetype": "text/x-python",
   "name": "python",
   "nbconvert_exporter": "python",
   "pygments_lexer": "ipython3",
   "version": "3.7.4"
  }
 },
 "nbformat": 4,
 "nbformat_minor": 2
}
