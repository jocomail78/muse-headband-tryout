{
 "cells": [
  {
   "cell_type": "code",
   "execution_count": 1,
   "metadata": {},
   "outputs": [
    {
     "name": "stderr",
     "output_type": "stream",
     "text": [
      "Using TensorFlow backend.\n"
     ]
    }
   ],
   "source": [
    "import os\n",
    "import csv\n",
    "import math\n",
    "import wandb\n",
    "import numpy as np\n",
    "from pathlib import Path \n",
    "\n",
    "from keras.utils import np_utils\n",
    "from keras.datasets import mnist\n",
    "from keras.models import Sequential\n",
    "from wandb.keras import WandbCallback\n",
    "from keras.layers import Dense, Flatten, Dropout"
   ]
  },
  {
   "cell_type": "code",
   "execution_count": 2,
   "metadata": {},
   "outputs": [],
   "source": [
    "#Getting the latest file from the folder\n",
    "record_path = Path(\"RecordSummary\")\n",
    "training_data_list = list(filter(os.path.isfile,record_path.glob('*.csv')))\n",
    "training_data_list.sort(key=lambda x: os.path.getmtime(x))\n",
    "training_data = training_data_list[-1]\n",
    "\n",
    "x_train_percent = 60\n",
    "x_test_percent = 100-x_train_percent\n",
    "x_train = []\n",
    "x_test = []\n",
    "y_train = []\n",
    "y_test = []\n",
    "\n",
    "with open(training_data) as csv_file:\n",
    "    data = list(csv.reader(csv_file))\n",
    "    lines = list(map(list, zip(*data)))\n",
    "\n",
    "nr_x_train = math.ceil(len(lines[0])*x_train_percent/100)\n",
    "lines = np.asarray(lines)\n",
    "\n",
    "\n",
    "#X stands for input, Y stands for output\n",
    "\n",
    "x_train = lines[1:, 0:nr_x_train]\n",
    "y_train = lines[0, 0:nr_x_train]\n",
    "\n",
    "x_test = lines[1:, nr_x_train:] \n",
    "y_test = lines[0, nr_x_train:]\n",
    "x_train = x_train.transpose()\n",
    "x_test = x_test.transpose()\n",
    "\n",
    "x_train = [a.reshape(4,96) for a in x_train]\n",
    "x_test = [a.reshape(4,96) for a in x_test]\n",
    "\n",
    "is_up_y_train = y_train=='up'\n",
    "is_up_y_test = y_test=='up'\n",
    "labels = [\"Not UP\", \"UP\"]"
   ]
  },
  {
   "cell_type": "code",
   "execution_count": 3,
   "metadata": {},
   "outputs": [
    {
     "data": {
      "text/html": [
       "\n",
       "                Logging results to <a href=\"https://wandb.com\" target=\"_blank\">Weights & Biases</a>.<br/>\n",
       "                Project page: <a href=\"https://app.wandb.ai/peter_jozsef/eeg-up-down\" target=\"_blank\">https://app.wandb.ai/peter_jozsef/eeg-up-down</a><br/>\n",
       "                Run page: <a href=\"https://app.wandb.ai/peter_jozsef/eeg-up-down/runs/mfp0m0lt\" target=\"_blank\">https://app.wandb.ai/peter_jozsef/eeg-up-down/runs/mfp0m0lt</a><br/>\n",
       "                Docs: <a href=\"https://docs.wandb.com/integrations/jupyter.html\" target=\"_blank\">https://docs.wandb.com/integrations/jupyter.html</a><br/>\n",
       "            "
      ],
      "text/plain": [
       "<IPython.core.display.HTML object>"
      ]
     },
     "metadata": {},
     "output_type": "display_data"
    }
   ],
   "source": [
    "\n"
   ]
  },
  {
   "cell_type": "code",
   "execution_count": 4,
   "metadata": {},
   "outputs": [
    {
     "name": "stdout",
     "output_type": "stream",
     "text": [
      "4\n",
      "96\n"
     ]
    }
   ],
   "source": [
    "channels = np.shape(x_train)[1]\n",
    "samples = np.shape(x_train)[2]\n",
    "\n",
    "print(channels)\n",
    "print(samples)"
   ]
  },
  {
   "cell_type": "code",
   "execution_count": 5,
   "metadata": {
    "scrolled": true
   },
   "outputs": [
    {
     "name": "stdout",
     "output_type": "stream",
     "text": [
      "(132, 4, 96)\n",
      "(132,)\n",
      "(87, 4, 96)\n",
      "(87,)\n"
     ]
    }
   ],
   "source": [
    "print(np.shape(x_train))\n",
    "print(np.shape(is_up_y_train))\n",
    "print(np.shape(x_test))\n",
    "print(np.shape(is_up_y_test))"
   ]
  },
  {
   "cell_type": "code",
   "execution_count": 6,
   "metadata": {},
   "outputs": [
    {
     "name": "stdout",
     "output_type": "stream",
     "text": [
      "<class 'list'>\n",
      "<class 'numpy.ndarray'>\n"
     ]
    }
   ],
   "source": [
    "print(type(x_train))\n",
    "print(type(is_up_y_train))"
   ]
  },
  {
   "cell_type": "code",
   "execution_count": 7,
   "metadata": {},
   "outputs": [],
   "source": [
    "#converting <class 'list'> to <class 'numpy.ndarray'>\n",
    "x_train = np.asarray(x_train)\n",
    "x_test = np.asarray(x_test)"
   ]
  },
  {
   "cell_type": "code",
   "execution_count": 20,
   "metadata": {},
   "outputs": [],
   "source": [
    "# create model\n",
    "model=Sequential()\n",
    "model.add(Flatten(input_shape=(channels,samples)))\n",
    "model.add(Dense(1, activation='sigmoid'))\n",
    "model.compile(loss='mse', optimizer='adam',\n",
    "                metrics=['accuracy'])"
   ]
  },
  {
   "cell_type": "code",
   "execution_count": 21,
   "metadata": {},
   "outputs": [
    {
     "data": {
      "text/html": [
       "\n",
       "                Logging results to <a href=\"https://wandb.com\" target=\"_blank\">Weights & Biases</a>.<br/>\n",
       "                Project page: <a href=\"https://app.wandb.ai/peter_jozsef/eeg-up-down\" target=\"_blank\">https://app.wandb.ai/peter_jozsef/eeg-up-down</a><br/>\n",
       "                Run page: <a href=\"https://app.wandb.ai/peter_jozsef/eeg-up-down/runs/190rorwc\" target=\"_blank\">https://app.wandb.ai/peter_jozsef/eeg-up-down/runs/190rorwc</a><br/>\n",
       "                Docs: <a href=\"https://docs.wandb.com/integrations/jupyter.html\" target=\"_blank\">https://docs.wandb.com/integrations/jupyter.html</a><br/>\n",
       "            "
      ],
      "text/plain": [
       "<IPython.core.display.HTML object>"
      ]
     },
     "metadata": {},
     "output_type": "display_data"
    },
    {
     "name": "stdout",
     "output_type": "stream",
     "text": [
      "Train on 132 samples, validate on 87 samples\n",
      "Epoch 1/10\n",
      "132/132 [==============================] - 0s 665us/step - loss: 1163.6202 - accuracy: 0.0076 - val_loss: 2820.7586 - val_accuracy: 0.0000e+00\n",
      "Epoch 2/10\n",
      "132/132 [==============================] - 0s 303us/step - loss: 1042.0079 - accuracy: 0.0000e+00 - val_loss: 2365.1410 - val_accuracy: 0.0115\n",
      "Epoch 3/10\n",
      "132/132 [==============================] - 0s 370us/step - loss: 485.3487 - accuracy: 0.0227 - val_loss: 1889.7678 - val_accuracy: 0.0575\n",
      "Epoch 4/10\n",
      "132/132 [==============================] - 0s 303us/step - loss: 446.9667 - accuracy: 0.0303 - val_loss: 2047.2350 - val_accuracy: 0.0345\n",
      "Epoch 5/10\n",
      "132/132 [==============================] - 0s 296us/step - loss: 287.9196 - accuracy: 0.0076 - val_loss: 2238.3613 - val_accuracy: 0.0115\n",
      "Epoch 6/10\n",
      "132/132 [==============================] - 0s 296us/step - loss: 235.2560 - accuracy: 0.0227 - val_loss: 2024.1217 - val_accuracy: 0.0460\n",
      "Epoch 7/10\n",
      "132/132 [==============================] - 0s 303us/step - loss: 192.2831 - accuracy: 0.0379 - val_loss: 1872.5821 - val_accuracy: 0.0115\n",
      "Epoch 8/10\n",
      "132/132 [==============================] - 0s 303us/step - loss: 170.6407 - accuracy: 0.0303 - val_loss: 1591.5600 - val_accuracy: 0.0115\n",
      "Epoch 9/10\n",
      "132/132 [==============================] - 0s 370us/step - loss: 150.5371 - accuracy: 0.0379 - val_loss: 1424.7028 - val_accuracy: 0.0115\n",
      "Epoch 10/10\n",
      "132/132 [==============================] - 0s 311us/step - loss: 140.9611 - accuracy: 0.0379 - val_loss: 1260.4119 - val_accuracy: 0.0345\n"
     ]
    },
    {
     "data": {
      "text/plain": [
       "<keras.callbacks.callbacks.History at 0x19d9ba36ec8>"
      ]
     },
     "execution_count": 21,
     "metadata": {},
     "output_type": "execute_result"
    }
   ],
   "source": [
    "# logging code\n",
    "run = wandb.init(project=\"eeg-up-down\")\n",
    "config = run.config\n",
    "config.epochs = 10\n",
    "# Fit the model\n",
    "model.fit(x_train, is_up_y_train, epochs=config.epochs, validation_data=(x_test, is_up_y_test),\n",
    "                    callbacks=[WandbCallback(labels=labels)])"
   ]
  },
  {
   "cell_type": "code",
   "execution_count": 22,
   "metadata": {},
   "outputs": [
    {
     "name": "stdout",
     "output_type": "stream",
     "text": [
      "[[-2.3008373e+00]\n",
      " [-1.1689644e+01]\n",
      " [-6.6963369e-01]\n",
      " [-1.1389257e+01]\n",
      " [ 1.3056808e+00]\n",
      " [-1.0227908e+01]\n",
      " [ 1.0793037e+01]\n",
      " [-4.9097533e+00]\n",
      " [-1.3539125e-02]\n",
      " [ 1.5840045e+00]\n",
      " [ 1.9954836e+01]\n",
      " [-5.6476331e+00]\n",
      " [-7.9740411e-01]\n",
      " [ 7.8677001e+00]\n",
      " [-6.0992613e+00]\n",
      " [ 7.6406183e+00]\n",
      " [-1.4299195e+00]\n",
      " [ 7.1601629e+00]\n",
      " [-1.8812613e+01]\n",
      " [ 4.1656165e+00]\n",
      " [-1.4653268e+00]\n",
      " [ 1.9256714e+01]\n",
      " [-5.0092139e+00]\n",
      " [ 5.4463309e-01]\n",
      " [ 1.2877664e+01]\n",
      " [-3.7976894e+01]\n",
      " [-1.5220685e+01]\n",
      " [ 2.1040885e+00]\n",
      " [ 2.3051067e+01]\n",
      " [-3.0924711e+01]\n",
      " [ 5.1582174e+00]\n",
      " [-1.6089090e+01]\n",
      " [-1.8726084e+01]\n",
      " [-8.8039923e+00]\n",
      " [-6.8157238e-01]\n",
      " [-7.7849236e+00]\n",
      " [ 8.1518412e-01]\n",
      " [-1.3696944e+01]\n",
      " [-4.2664796e-01]\n",
      " [-1.0022473e+01]\n",
      " [ 7.2021216e-01]\n",
      " [-7.9170551e+00]\n",
      " [ 7.6011391e+00]\n",
      " [ 2.8375227e+00]\n",
      " [-3.0631858e-01]\n",
      " [-9.0021973e+00]\n",
      " [-1.0166352e+01]\n",
      " [ 3.2787802e+00]\n",
      " [ 1.5260325e+01]\n",
      " [ 3.1198256e+00]\n",
      " [ 2.3083847e+00]\n",
      " [-6.0218434e+00]\n",
      " [-9.5355827e-01]\n",
      " [-3.6527306e+01]\n",
      " [ 7.2727017e+00]\n",
      " [ 1.0537850e+01]\n",
      " [ 4.6906576e+00]\n",
      " [-8.9773256e-01]\n",
      " [ 3.0652060e+02]\n",
      " [ 7.0869888e+01]\n",
      " [-1.5112076e+01]\n",
      " [-3.9993078e-01]\n",
      " [-1.4574657e+01]\n",
      " [ 5.4228277e+00]\n",
      " [-9.5089585e-01]\n",
      " [-2.6127312e+00]\n",
      " [ 3.0988109e+00]\n",
      " [-1.2061136e+00]\n",
      " [ 3.0584209e+00]\n",
      " [-9.0733290e+00]\n",
      " [-4.9267778e+00]\n",
      " [ 4.9137373e+00]\n",
      " [-4.3919320e+00]\n",
      " [-6.3266392e+00]\n",
      " [-1.4098870e+01]\n",
      " [ 2.7825701e+00]\n",
      " [-1.7050636e+01]\n",
      " [-5.0467596e+00]\n",
      " [ 1.7448774e+01]\n",
      " [-3.6677542e+00]\n",
      " [ 3.2118299e+00]\n",
      " [ 1.7502220e+01]\n",
      " [-2.1750162e+01]\n",
      " [-9.0229511e+00]\n",
      " [-8.3173714e+00]\n",
      " [ 2.3983521e+00]\n",
      " [-6.8694458e+00]]\n",
      "[False  True False False False  True False  True  True  True False False\n",
      "  True False  True False  True  True  True  True False  True  True  True\n",
      " False  True  True  True False False  True  True  True  True  True False\n",
      "  True  True  True  True  True False  True False  True  True  True False\n",
      "  True False False  True  True False  True False  True False  True  True\n",
      "  True  True  True  True False  True  True False  True  True False  True\n",
      " False  True False  True False False False  True  True False  True  True\n",
      "  True False False]\n"
     ]
    }
   ],
   "source": [
    "print(model.predict(x_test[:100,:,:]))\n",
    "print(is_up_y_test[:100])"
   ]
  },
  {
   "cell_type": "code",
   "execution_count": null,
   "metadata": {},
   "outputs": [],
   "source": []
  }
 ],
 "metadata": {
  "kernelspec": {
   "display_name": "Python 3",
   "language": "python",
   "name": "python3"
  },
  "language_info": {
   "codemirror_mode": {
    "name": "ipython",
    "version": 3
   },
   "file_extension": ".py",
   "mimetype": "text/x-python",
   "name": "python",
   "nbconvert_exporter": "python",
   "pygments_lexer": "ipython3",
   "version": "3.7.4"
  }
 },
 "nbformat": 4,
 "nbformat_minor": 2
}
