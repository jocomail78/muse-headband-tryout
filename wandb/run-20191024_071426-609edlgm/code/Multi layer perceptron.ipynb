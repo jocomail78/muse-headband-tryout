{
 "cells": [
  {
   "cell_type": "code",
   "execution_count": 1,
   "metadata": {},
   "outputs": [
    {
     "name": "stderr",
     "output_type": "stream",
     "text": [
      "Using TensorFlow backend.\n"
     ]
    }
   ],
   "source": [
    "import os\n",
    "import csv\n",
    "import math\n",
    "import wandb\n",
    "import numpy as np\n",
    "from pathlib import Path \n",
    "\n",
    "import matplotlib.pyplot as plt\n",
    "\n",
    "from keras.utils import np_utils\n",
    "from keras.datasets import mnist\n",
    "from keras.models import Sequential\n",
    "from wandb.keras import WandbCallback\n",
    "from keras.layers import Dense, Flatten, Dropout"
   ]
  },
  {
   "cell_type": "code",
   "execution_count": 2,
   "metadata": {},
   "outputs": [],
   "source": [
    "#Getting the latest file from the folder\n",
    "record_path = Path(\"RecordSummary\")\n",
    "training_data_list = list(filter(os.path.isfile,record_path.glob('*.csv')))\n",
    "training_data_list.sort(key=lambda x: os.path.getmtime(x))\n",
    "training_data = training_data_list[-1]\n",
    "\n",
    "x_train_percent = 60\n",
    "x_test_percent = 100-x_train_percent\n",
    "x_train = []\n",
    "x_test = []\n",
    "y_train = []\n",
    "y_test = []\n",
    "\n",
    "with open(training_data) as csv_file:\n",
    "    data = list(csv.reader(csv_file))\n",
    "    lines = list(map(list, zip(*data)))\n",
    "\n",
    "nr_x_train = math.ceil(len(lines[0])*x_train_percent/100)\n",
    "lines = np.asarray(lines)\n",
    "\n",
    "#X stands for input, Y stands for output\n",
    "\n",
    "x_train = lines[1:, 0:nr_x_train]\n",
    "y_train = lines[0, 0:nr_x_train]\n",
    "\n",
    "x_test = lines[1:, nr_x_train:] \n",
    "y_test = lines[0, nr_x_train:]\n",
    "x_train = x_train.transpose()\n",
    "x_test = x_test.transpose()\n",
    "\n",
    "x_train = [a.reshape(4,96) for a in x_train]\n",
    "x_test = [a.reshape(4,96) for a in x_test]\n",
    "\n",
    "is_up_y_train = y_train=='up'\n",
    "is_up_y_test = y_test=='up'\n",
    "labels = [\"Down\", \"Up\"]"
   ]
  },
  {
   "cell_type": "code",
   "execution_count": 3,
   "metadata": {},
   "outputs": [
    {
     "name": "stdout",
     "output_type": "stream",
     "text": [
      "4\n",
      "96\n"
     ]
    }
   ],
   "source": [
    "channels = np.shape(x_train)[1]\n",
    "samples = np.shape(x_train)[2]\n",
    "\n",
    "print(channels)\n",
    "print(samples)"
   ]
  },
  {
   "cell_type": "code",
   "execution_count": 4,
   "metadata": {
    "scrolled": true
   },
   "outputs": [
    {
     "name": "stdout",
     "output_type": "stream",
     "text": [
      "(130, 4, 96)\n",
      "(130,)\n",
      "(86, 4, 96)\n",
      "(86,)\n"
     ]
    }
   ],
   "source": [
    "print(np.shape(x_train))\n",
    "print(np.shape(is_up_y_train))\n",
    "print(np.shape(x_test))\n",
    "print(np.shape(is_up_y_test))"
   ]
  },
  {
   "cell_type": "code",
   "execution_count": 5,
   "metadata": {},
   "outputs": [
    {
     "name": "stdout",
     "output_type": "stream",
     "text": [
      "<class 'list'>\n",
      "<class 'numpy.ndarray'>\n"
     ]
    }
   ],
   "source": [
    "print(type(x_train))\n",
    "print(type(is_up_y_train))"
   ]
  },
  {
   "cell_type": "code",
   "execution_count": 6,
   "metadata": {},
   "outputs": [],
   "source": [
    "#converting <class 'list'> to <class 'numpy.ndarray'>\n",
    "x_train = np.asarray(x_train)\n",
    "x_test = np.asarray(x_test)"
   ]
  },
  {
   "cell_type": "code",
   "execution_count": 7,
   "metadata": {},
   "outputs": [
    {
     "name": "stdout",
     "output_type": "stream",
     "text": [
      "Min: -194.824, Max:221.68\n"
     ]
    }
   ],
   "source": [
    "#Normalizing data:\n",
    "x_train = x_train.astype(\"float\")\n",
    "x_test = x_test.astype(\"float\")\n",
    "merge = np.vstack((x_train, x_test))\n",
    "minval = np.amin(merge)\n",
    "maxval = np.amax(merge)\n",
    "print(f'Min: {minval}, Max:{maxval}')\n",
    "x_train = (x_train-minval)/(maxval-minval)\n",
    "x_test = (x_test-minval)/(maxval-minval)"
   ]
  },
  {
   "cell_type": "code",
   "execution_count": 8,
   "metadata": {},
   "outputs": [],
   "source": [
    "# create model\n",
    "model=Sequential()\n",
    "model.add(Flatten(input_shape=(channels,samples)))\n",
    "model.add(Dense(1, activation='sigmoid'))\n",
    "model.compile(loss='mse', optimizer='adam',\n",
    "                metrics=['accuracy'])"
   ]
  },
  {
   "cell_type": "code",
   "execution_count": 9,
   "metadata": {},
   "outputs": [
    {
     "data": {
      "text/html": [
       "\n",
       "                Logging results to <a href=\"https://wandb.com\" target=\"_blank\">Weights & Biases</a>.<br/>\n",
       "                Project page: <a href=\"https://app.wandb.ai/peter_jozsef/eeg-up-down\" target=\"_blank\">https://app.wandb.ai/peter_jozsef/eeg-up-down</a><br/>\n",
       "                Run page: <a href=\"https://app.wandb.ai/peter_jozsef/eeg-up-down/runs/epnhaa48\" target=\"_blank\">https://app.wandb.ai/peter_jozsef/eeg-up-down/runs/epnhaa48</a><br/>\n",
       "                Docs: <a href=\"https://docs.wandb.com/integrations/jupyter.html\" target=\"_blank\">https://docs.wandb.com/integrations/jupyter.html</a><br/>\n",
       "            "
      ],
      "text/plain": [
       "<IPython.core.display.HTML object>"
      ]
     },
     "metadata": {},
     "output_type": "display_data"
    },
    {
     "name": "stdout",
     "output_type": "stream",
     "text": [
      "Train on 130 samples, validate on 86 samples\n",
      "Epoch 1/100\n",
      "130/130 [==============================] - 0s 488us/step - loss: 0.2556 - accuracy: 0.5000 - val_loss: 0.2360 - val_accuracy: 0.6163\n",
      "Epoch 2/100\n",
      "130/130 [==============================] - 0s 52us/step - loss: 0.2573 - accuracy: 0.5462 - val_loss: 0.2361 - val_accuracy: 0.6163\n",
      "Epoch 3/100\n",
      "130/130 [==============================] - 0s 53us/step - loss: 0.2501 - accuracy: 0.5538 - val_loss: 0.2474 - val_accuracy: 0.5698\n",
      "Epoch 4/100\n",
      "130/130 [==============================] - 0s 53us/step - loss: 0.2510 - accuracy: 0.4385 - val_loss: 0.2483 - val_accuracy: 0.5698\n",
      "Epoch 5/100\n",
      "130/130 [==============================] - 0s 60us/step - loss: 0.2495 - accuracy: 0.5231 - val_loss: 0.2393 - val_accuracy: 0.6163\n",
      "Epoch 6/100\n",
      "130/130 [==============================] - 0s 53us/step - loss: 0.2462 - accuracy: 0.5462 - val_loss: 0.2361 - val_accuracy: 0.6163\n",
      "Epoch 7/100\n",
      "130/130 [==============================] - 0s 45us/step - loss: 0.2540 - accuracy: 0.5462 - val_loss: 0.2360 - val_accuracy: 0.6163\n",
      "Epoch 8/100\n",
      "130/130 [==============================] - 0s 53us/step - loss: 0.2514 - accuracy: 0.5462 - val_loss: 0.2405 - val_accuracy: 0.6163\n",
      "Epoch 9/100\n",
      "130/130 [==============================] - 0s 45us/step - loss: 0.2471 - accuracy: 0.5615 - val_loss: 0.2467 - val_accuracy: 0.6395\n",
      "Epoch 10/100\n",
      "130/130 [==============================] - 0s 60us/step - loss: 0.2543 - accuracy: 0.4692 - val_loss: 0.2684 - val_accuracy: 0.3837\n",
      "Epoch 11/100\n",
      "130/130 [==============================] - 0s 45us/step - loss: 0.2670 - accuracy: 0.4538 - val_loss: 0.2754 - val_accuracy: 0.3837\n",
      "Epoch 12/100\n",
      "130/130 [==============================] - 0s 53us/step - loss: 0.2636 - accuracy: 0.4538 - val_loss: 0.2506 - val_accuracy: 0.4535\n",
      "Epoch 13/100\n",
      "130/130 [==============================] - 0s 60us/step - loss: 0.2516 - accuracy: 0.4615 - val_loss: 0.2380 - val_accuracy: 0.6163\n",
      "Epoch 14/100\n",
      "130/130 [==============================] - 0s 60us/step - loss: 0.2487 - accuracy: 0.5462 - val_loss: 0.2365 - val_accuracy: 0.6163\n",
      "Epoch 15/100\n",
      "130/130 [==============================] - 0s 53us/step - loss: 0.2482 - accuracy: 0.5462 - val_loss: 0.2394 - val_accuracy: 0.6163\n",
      "Epoch 16/100\n",
      "130/130 [==============================] - 0s 53us/step - loss: 0.2464 - accuracy: 0.5692 - val_loss: 0.2572 - val_accuracy: 0.3953\n",
      "Epoch 17/100\n",
      "130/130 [==============================] - 0s 52us/step - loss: 0.2598 - accuracy: 0.4538 - val_loss: 0.2740 - val_accuracy: 0.3837\n",
      "Epoch 18/100\n",
      "130/130 [==============================] - 0s 53us/step - loss: 0.2624 - accuracy: 0.4538 - val_loss: 0.2527 - val_accuracy: 0.3953\n",
      "Epoch 19/100\n",
      "130/130 [==============================] - 0s 45us/step - loss: 0.2521 - accuracy: 0.5077 - val_loss: 0.2360 - val_accuracy: 0.6163\n",
      "Epoch 20/100\n",
      "130/130 [==============================] - 0s 54us/step - loss: 0.2521 - accuracy: 0.5462 - val_loss: 0.2360 - val_accuracy: 0.6163\n",
      "Epoch 21/100\n",
      "130/130 [==============================] - 0s 60us/step - loss: 0.2485 - accuracy: 0.5462 - val_loss: 0.2407 - val_accuracy: 0.6163\n",
      "Epoch 22/100\n",
      "130/130 [==============================] - 0s 45us/step - loss: 0.2486 - accuracy: 0.5077 - val_loss: 0.2510 - val_accuracy: 0.4419\n",
      "Epoch 23/100\n",
      "130/130 [==============================] - 0s 53us/step - loss: 0.2517 - accuracy: 0.4538 - val_loss: 0.2506 - val_accuracy: 0.4535\n",
      "Epoch 24/100\n",
      "130/130 [==============================] - 0s 60us/step - loss: 0.2484 - accuracy: 0.5385 - val_loss: 0.2413 - val_accuracy: 0.6163\n",
      "Epoch 25/100\n",
      "130/130 [==============================] - 0s 45us/step - loss: 0.2482 - accuracy: 0.5538 - val_loss: 0.2361 - val_accuracy: 0.6163\n",
      "Epoch 26/100\n",
      "130/130 [==============================] - 0s 68us/step - loss: 0.2553 - accuracy: 0.5462 - val_loss: 0.2394 - val_accuracy: 0.6163\n",
      "Epoch 27/100\n",
      "130/130 [==============================] - 0s 53us/step - loss: 0.2633 - accuracy: 0.5462 - val_loss: 0.2388 - val_accuracy: 0.6163\n",
      "Epoch 28/100\n",
      "130/130 [==============================] - 0s 60us/step - loss: 0.2571 - accuracy: 0.5462 - val_loss: 0.2368 - val_accuracy: 0.6163\n",
      "Epoch 29/100\n",
      "130/130 [==============================] - 0s 60us/step - loss: 0.2498 - accuracy: 0.5000 - val_loss: 0.2551 - val_accuracy: 0.3837\n",
      "Epoch 30/100\n",
      "130/130 [==============================] - 0s 53us/step - loss: 0.2510 - accuracy: 0.4538 - val_loss: 0.2494 - val_accuracy: 0.5000\n",
      "Epoch 31/100\n",
      "130/130 [==============================] - 0s 53us/step - loss: 0.2473 - accuracy: 0.5615 - val_loss: 0.2424 - val_accuracy: 0.6163\n",
      "Epoch 32/100\n",
      "130/130 [==============================] - 0s 60us/step - loss: 0.2459 - accuracy: 0.5769 - val_loss: 0.2375 - val_accuracy: 0.6163\n",
      "Epoch 33/100\n",
      "130/130 [==============================] - 0s 60us/step - loss: 0.2487 - accuracy: 0.5462 - val_loss: 0.2363 - val_accuracy: 0.6163\n",
      "Epoch 34/100\n",
      "130/130 [==============================] - 0s 42us/step - loss: 0.2535 - accuracy: 0.5462 - val_loss: 0.2370 - val_accuracy: 0.6163\n",
      "Epoch 35/100\n",
      "130/130 [==============================] - 0s 53us/step - loss: 0.2539 - accuracy: 0.5462 - val_loss: 0.2362 - val_accuracy: 0.6163\n",
      "Epoch 36/100\n",
      "130/130 [==============================] - 0s 60us/step - loss: 0.2485 - accuracy: 0.5462 - val_loss: 0.2402 - val_accuracy: 0.6163\n",
      "Epoch 37/100\n",
      "130/130 [==============================] - 0s 52us/step - loss: 0.2449 - accuracy: 0.5615 - val_loss: 0.2376 - val_accuracy: 0.6163\n",
      "Epoch 38/100\n",
      "130/130 [==============================] - 0s 60us/step - loss: 0.2482 - accuracy: 0.5462 - val_loss: 0.2360 - val_accuracy: 0.6163\n",
      "Epoch 39/100\n",
      "130/130 [==============================] - 0s 45us/step - loss: 0.2482 - accuracy: 0.5462 - val_loss: 0.2366 - val_accuracy: 0.6163\n",
      "Epoch 40/100\n",
      "130/130 [==============================] - 0s 53us/step - loss: 0.2446 - accuracy: 0.5462 - val_loss: 0.2422 - val_accuracy: 0.6163\n",
      "Epoch 41/100\n",
      "130/130 [==============================] - 0s 53us/step - loss: 0.2487 - accuracy: 0.4923 - val_loss: 0.2606 - val_accuracy: 0.3837\n",
      "Epoch 42/100\n",
      "130/130 [==============================] - 0s 60us/step - loss: 0.2545 - accuracy: 0.4538 - val_loss: 0.2630 - val_accuracy: 0.3837\n",
      "Epoch 43/100\n",
      "130/130 [==============================] - 0s 45us/step - loss: 0.2559 - accuracy: 0.4538 - val_loss: 0.2598 - val_accuracy: 0.3837\n",
      "Epoch 44/100\n",
      "130/130 [==============================] - 0s 45us/step - loss: 0.2491 - accuracy: 0.4538 - val_loss: 0.2458 - val_accuracy: 0.6395\n",
      "Epoch 45/100\n",
      "130/130 [==============================] - 0s 60us/step - loss: 0.2457 - accuracy: 0.5615 - val_loss: 0.2376 - val_accuracy: 0.6163\n",
      "Epoch 46/100\n",
      "130/130 [==============================] - 0s 60us/step - loss: 0.2449 - accuracy: 0.5462 - val_loss: 0.2370 - val_accuracy: 0.6163\n",
      "Epoch 47/100\n",
      "130/130 [==============================] - 0s 53us/step - loss: 0.2471 - accuracy: 0.5462 - val_loss: 0.2370 - val_accuracy: 0.6163\n",
      "Epoch 48/100\n",
      "130/130 [==============================] - 0s 45us/step - loss: 0.2463 - accuracy: 0.5462 - val_loss: 0.2365 - val_accuracy: 0.6163\n",
      "Epoch 49/100\n",
      "130/130 [==============================] - 0s 53us/step - loss: 0.2459 - accuracy: 0.5462 - val_loss: 0.2388 - val_accuracy: 0.6163\n",
      "Epoch 50/100\n",
      "130/130 [==============================] - 0s 60us/step - loss: 0.2446 - accuracy: 0.5846 - val_loss: 0.2434 - val_accuracy: 0.6279\n",
      "Epoch 51/100\n",
      "130/130 [==============================] - 0s 45us/step - loss: 0.2444 - accuracy: 0.6077 - val_loss: 0.2427 - val_accuracy: 0.6279\n",
      "Epoch 52/100\n",
      "130/130 [==============================] - 0s 53us/step - loss: 0.2448 - accuracy: 0.5769 - val_loss: 0.2370 - val_accuracy: 0.6163\n",
      "Epoch 53/100\n",
      "130/130 [==============================] - 0s 52us/step - loss: 0.2451 - accuracy: 0.5462 - val_loss: 0.2370 - val_accuracy: 0.6163\n",
      "Epoch 54/100\n",
      "130/130 [==============================] - 0s 59us/step - loss: 0.2448 - accuracy: 0.5462 - val_loss: 0.2393 - val_accuracy: 0.6163\n",
      "Epoch 55/100\n",
      "130/130 [==============================] - 0s 38us/step - loss: 0.2446 - accuracy: 0.6000 - val_loss: 0.2412 - val_accuracy: 0.6279\n",
      "Epoch 56/100\n",
      "130/130 [==============================] - 0s 53us/step - loss: 0.2440 - accuracy: 0.5615 - val_loss: 0.2370 - val_accuracy: 0.6163\n",
      "Epoch 57/100\n"
     ]
    },
    {
     "name": "stdout",
     "output_type": "stream",
     "text": [
      "130/130 [==============================] - 0s 60us/step - loss: 0.2453 - accuracy: 0.5462 - val_loss: 0.2364 - val_accuracy: 0.6163\n",
      "Epoch 58/100\n",
      "130/130 [==============================] - 0s 60us/step - loss: 0.2465 - accuracy: 0.5462 - val_loss: 0.2365 - val_accuracy: 0.6163\n",
      "Epoch 59/100\n",
      "130/130 [==============================] - 0s 45us/step - loss: 0.2452 - accuracy: 0.5692 - val_loss: 0.2454 - val_accuracy: 0.6628\n",
      "Epoch 60/100\n",
      "130/130 [==============================] - 0s 53us/step - loss: 0.2441 - accuracy: 0.6077 - val_loss: 0.2504 - val_accuracy: 0.4070\n",
      "Epoch 61/100\n",
      "130/130 [==============================] - 0s 75us/step - loss: 0.2456 - accuracy: 0.5538 - val_loss: 0.2444 - val_accuracy: 0.6279\n",
      "Epoch 62/100\n",
      "130/130 [==============================] - 0s 60us/step - loss: 0.2438 - accuracy: 0.5923 - val_loss: 0.2361 - val_accuracy: 0.6163\n",
      "Epoch 63/100\n",
      "130/130 [==============================] - 0s 52us/step - loss: 0.2499 - accuracy: 0.5462 - val_loss: 0.2367 - val_accuracy: 0.6163\n",
      "Epoch 64/100\n",
      "130/130 [==============================] - 0s 45us/step - loss: 0.2502 - accuracy: 0.5462 - val_loss: 0.2373 - val_accuracy: 0.6163\n",
      "Epoch 65/100\n",
      "130/130 [==============================] - 0s 53us/step - loss: 0.2445 - accuracy: 0.5615 - val_loss: 0.2396 - val_accuracy: 0.6163\n",
      "Epoch 66/100\n",
      "130/130 [==============================] - 0s 60us/step - loss: 0.2423 - accuracy: 0.5923 - val_loss: 0.2414 - val_accuracy: 0.6279\n",
      "Epoch 67/100\n",
      "130/130 [==============================] - 0s 45us/step - loss: 0.2427 - accuracy: 0.6385 - val_loss: 0.2410 - val_accuracy: 0.6279\n",
      "Epoch 68/100\n",
      "130/130 [==============================] - 0s 45us/step - loss: 0.2416 - accuracy: 0.5923 - val_loss: 0.2369 - val_accuracy: 0.6163\n",
      "Epoch 69/100\n",
      "130/130 [==============================] - 0s 53us/step - loss: 0.2449 - accuracy: 0.5462 - val_loss: 0.2374 - val_accuracy: 0.6163\n",
      "Epoch 70/100\n",
      "130/130 [==============================] - 0s 53us/step - loss: 0.2430 - accuracy: 0.5538 - val_loss: 0.2489 - val_accuracy: 0.5233\n",
      "Epoch 71/100\n",
      "130/130 [==============================] - 0s 45us/step - loss: 0.2446 - accuracy: 0.5538 - val_loss: 0.2567 - val_accuracy: 0.3837\n",
      "Epoch 72/100\n",
      "130/130 [==============================] - 0s 45us/step - loss: 0.2519 - accuracy: 0.4538 - val_loss: 0.2639 - val_accuracy: 0.3837\n",
      "Epoch 73/100\n",
      "130/130 [==============================] - 0s 45us/step - loss: 0.2504 - accuracy: 0.4615 - val_loss: 0.2511 - val_accuracy: 0.4302\n",
      "Epoch 74/100\n",
      "130/130 [==============================] - 0s 53us/step - loss: 0.2434 - accuracy: 0.5846 - val_loss: 0.2390 - val_accuracy: 0.6163\n",
      "Epoch 75/100\n",
      "130/130 [==============================] - 0s 45us/step - loss: 0.2437 - accuracy: 0.5538 - val_loss: 0.2366 - val_accuracy: 0.6163\n",
      "Epoch 76/100\n",
      "130/130 [==============================] - 0s 53us/step - loss: 0.2537 - accuracy: 0.5462 - val_loss: 0.2384 - val_accuracy: 0.6163\n",
      "Epoch 77/100\n",
      "130/130 [==============================] - 0s 45us/step - loss: 0.2540 - accuracy: 0.5462 - val_loss: 0.2363 - val_accuracy: 0.6163\n",
      "Epoch 78/100\n",
      "130/130 [==============================] - 0s 45us/step - loss: 0.2477 - accuracy: 0.5462 - val_loss: 0.2364 - val_accuracy: 0.6163\n",
      "Epoch 79/100\n",
      "130/130 [==============================] - 0s 53us/step - loss: 0.2416 - accuracy: 0.5615 - val_loss: 0.2429 - val_accuracy: 0.6279\n",
      "Epoch 80/100\n",
      "130/130 [==============================] - 0s 53us/step - loss: 0.2449 - accuracy: 0.5692 - val_loss: 0.2632 - val_accuracy: 0.3837\n",
      "Epoch 81/100\n",
      "130/130 [==============================] - 0s 45us/step - loss: 0.2518 - accuracy: 0.4538 - val_loss: 0.2602 - val_accuracy: 0.3837\n",
      "Epoch 82/100\n",
      "130/130 [==============================] - 0s 45us/step - loss: 0.2477 - accuracy: 0.4846 - val_loss: 0.2442 - val_accuracy: 0.6395\n",
      "Epoch 83/100\n",
      "130/130 [==============================] - 0s 60us/step - loss: 0.2419 - accuracy: 0.6231 - val_loss: 0.2361 - val_accuracy: 0.6163\n",
      "Epoch 84/100\n",
      "130/130 [==============================] - 0s 53us/step - loss: 0.2461 - accuracy: 0.5462 - val_loss: 0.2361 - val_accuracy: 0.6163\n",
      "Epoch 85/100\n",
      "130/130 [==============================] - 0s 45us/step - loss: 0.2452 - accuracy: 0.5462 - val_loss: 0.2368 - val_accuracy: 0.6163\n",
      "Epoch 86/100\n",
      "130/130 [==============================] - 0s 45us/step - loss: 0.2429 - accuracy: 0.5615 - val_loss: 0.2373 - val_accuracy: 0.6163\n",
      "Epoch 87/100\n",
      "130/130 [==============================] - 0s 67us/step - loss: 0.2416 - accuracy: 0.5692 - val_loss: 0.2401 - val_accuracy: 0.6279\n",
      "Epoch 88/100\n",
      "130/130 [==============================] - 0s 59us/step - loss: 0.2412 - accuracy: 0.6154 - val_loss: 0.2465 - val_accuracy: 0.6047\n",
      "Epoch 89/100\n",
      "130/130 [==============================] - 0s 45us/step - loss: 0.2466 - accuracy: 0.4538 - val_loss: 0.2544 - val_accuracy: 0.3953\n",
      "Epoch 90/100\n",
      "130/130 [==============================] - 0s 52us/step - loss: 0.2440 - accuracy: 0.5538 - val_loss: 0.2411 - val_accuracy: 0.6279\n",
      "Epoch 91/100\n",
      "130/130 [==============================] - 0s 105us/step - loss: 0.2406 - accuracy: 0.6077 - val_loss: 0.2367 - val_accuracy: 0.6163\n",
      "Epoch 92/100\n",
      "130/130 [==============================] - 0s 53us/step - loss: 0.2458 - accuracy: 0.5462 - val_loss: 0.2364 - val_accuracy: 0.6163\n",
      "Epoch 93/100\n",
      "130/130 [==============================] - 0s 45us/step - loss: 0.2473 - accuracy: 0.5462 - val_loss: 0.2365 - val_accuracy: 0.6163\n",
      "Epoch 94/100\n",
      "130/130 [==============================] - 0s 45us/step - loss: 0.2410 - accuracy: 0.5692 - val_loss: 0.2411 - val_accuracy: 0.6279\n",
      "Epoch 95/100\n",
      "130/130 [==============================] - 0s 53us/step - loss: 0.2412 - accuracy: 0.6154 - val_loss: 0.2489 - val_accuracy: 0.5000\n",
      "Epoch 96/100\n",
      "130/130 [==============================] - 0s 53us/step - loss: 0.2440 - accuracy: 0.5000 - val_loss: 0.2512 - val_accuracy: 0.4651\n",
      "Epoch 97/100\n",
      "130/130 [==============================] - 0s 113us/step - loss: 0.2436 - accuracy: 0.6000 - val_loss: 0.2460 - val_accuracy: 0.6163\n",
      "Epoch 98/100\n",
      "130/130 [==============================] - 0s 105us/step - loss: 0.2423 - accuracy: 0.6000 - val_loss: 0.2512 - val_accuracy: 0.4535\n",
      "Epoch 99/100\n",
      "130/130 [==============================] - 0s 60us/step - loss: 0.2429 - accuracy: 0.6231 - val_loss: 0.2453 - val_accuracy: 0.6512\n",
      "Epoch 100/100\n",
      "130/130 [==============================] - 0s 53us/step - loss: 0.2394 - accuracy: 0.6462 - val_loss: 0.2381 - val_accuracy: 0.6163\n"
     ]
    },
    {
     "data": {
      "text/plain": [
       "<keras.callbacks.callbacks.History at 0x21aa1c796c8>"
      ]
     },
     "execution_count": 9,
     "metadata": {},
     "output_type": "execute_result"
    }
   ],
   "source": [
    "# logging code\n",
    "run = wandb.init(project=\"eeg-up-down\")\n",
    "config = run.config\n",
    "config.epochs = 1000\n",
    "# Fit the model\n",
    "model.fit(x_train, is_up_y_train, epochs=config.epochs, validation_data=(x_test, is_up_y_test),\n",
    "                    callbacks=[WandbCallback(labels=labels)])"
   ]
  },
  {
   "cell_type": "code",
   "execution_count": null,
   "metadata": {},
   "outputs": [],
   "source": [
    "print(model.predict(x_test[10:50,:,:]))\n",
    "print(is_up_y_test[10:50])"
   ]
  },
  {
   "cell_type": "code",
   "execution_count": null,
   "metadata": {},
   "outputs": [],
   "source": []
  }
 ],
 "metadata": {
  "kernelspec": {
   "display_name": "Python 3",
   "language": "python",
   "name": "python3"
  },
  "language_info": {
   "codemirror_mode": {
    "name": "ipython",
    "version": 3
   },
   "file_extension": ".py",
   "mimetype": "text/x-python",
   "name": "python",
   "nbconvert_exporter": "python",
   "pygments_lexer": "ipython3",
   "version": "3.7.4"
  }
 },
 "nbformat": 4,
 "nbformat_minor": 2
}
