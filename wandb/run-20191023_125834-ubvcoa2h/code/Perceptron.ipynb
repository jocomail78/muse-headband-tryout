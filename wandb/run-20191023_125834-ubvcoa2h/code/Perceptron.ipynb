{
 "cells": [
  {
   "cell_type": "code",
   "execution_count": null,
   "metadata": {},
   "outputs": [],
   "source": [
    "import os\n",
    "import csv\n",
    "import math\n",
    "import wandb\n",
    "import numpy as np\n",
    "from pathlib import Path \n",
    "\n",
    "from keras.utils import np_utils\n",
    "from keras.datasets import mnist\n",
    "from keras.models import Sequential\n",
    "from wandb.keras import WandbCallback\n",
    "from keras.layers import Dense, Flatten, Dropout"
   ]
  },
  {
   "cell_type": "code",
   "execution_count": 32,
   "metadata": {},
   "outputs": [
    {
     "name": "stdout",
     "output_type": "stream",
     "text": [
      "(385, 219)\n",
      "132\n",
      "(132, 219)\n",
      "(132,)\n",
      "(252, 219)\n",
      "(87,)\n",
      "(132, 219)\n"
     ]
    }
   ],
   "source": [
    "#Getting the latest file from the folder\n",
    "record_path = Path(\"RecordSummary\")\n",
    "training_data_list = list(filter(os.path.isfile,record_path.glob('*.csv')))\n",
    "training_data_list.sort(key=lambda x: os.path.getmtime(x))\n",
    "training_data = training_data_list[-1]\n",
    "\n",
    "x_train_percent = 60\n",
    "x_test_percent = 100-x_train_percent\n",
    "x_train = []\n",
    "x_test = []\n",
    "y_train = []\n",
    "y_test = []\n",
    "\n",
    "with open(training_data) as csv_file:\n",
    "    data = list(csv.reader(csv_file))\n",
    "    lines = list(map(list, zip(*data)))\n",
    "\n",
    "nr_x_train = math.ceil(len(lines[0])*x_train_percent/100)\n",
    "print(np.shape(tp))\n",
    "print(nr_x_train)\n",
    "\n",
    "x_test = lines[0][0:nr_x_train]\n",
    "y_test = lines[0][nr_x_train:]\n",
    "\n",
    "\n",
    "x_train = lines[1:][0:nr_x_train]\n",
    "y_train = lines[1:][nr_x_train:] \n",
    "\n",
    "\n",
    "print(np.shape(x_train))\n",
    "print(np.shape(x_test))\n",
    "print(np.shape(y_train))\n",
    "print(np.shape(y_test))\n",
    "\n",
    "print(np.shape(lines[1:][0:nr_x_train]))\n",
    "\n",
    "\n",
    "# with open(training_data) as csv_file:\n",
    "#     nr_lines = sum(1 for line in csv_file)\n",
    "#     line_counter = 0;\n",
    "#     nr_x_train = math.ceil(nr_lines*x_train_percent/100)\n",
    "    \n",
    "#     csvReader = csv.reader(csv_file)\n",
    "#     print(csvReader)\n",
    "#     for row in csvReader:\n",
    "#         print(row)\n",
    "#         if line_counter<=nr_x_train:\n",
    "#             x_train.append(row[1:])\n",
    "#             y_train.append(row[0])\n",
    "#         else:\n",
    "#             x_test.append(row[1:])\n",
    "#             y_test.append(row[0])\n",
    "\n",
    "\n"
   ]
  },
  {
   "cell_type": "code",
   "execution_count": null,
   "metadata": {},
   "outputs": [],
   "source": [
    "# logging code\n",
    "run = wandb.init(name=\"Perceptron EEG\")\n",
    "config = run.config\n",
    "\n",
    "config.epochs = 10"
   ]
  },
  {
   "cell_type": "code",
   "execution_count": null,
   "metadata": {},
   "outputs": [],
   "source": [
    "#X stands for input, Y stands for output\n",
    "x_train = \n",
    "y_train = \n",
    "# load data\n",
    "(X_train, y_train), (X_test, y_test) = mnist.load_data()\n",
    "\n",
    "print( f'In: {np.shape(X_train)} | Out: {np.shape(y_train)} | TIn: {np.shape(X_test)} | TOut: {np.shape(y_test)}')"
   ]
  }
 ],
 "metadata": {
  "kernelspec": {
   "display_name": "Python 3",
   "language": "python",
   "name": "python3"
  },
  "language_info": {
   "codemirror_mode": {
    "name": "ipython",
    "version": 3
   },
   "file_extension": ".py",
   "mimetype": "text/x-python",
   "name": "python",
   "nbconvert_exporter": "python",
   "pygments_lexer": "ipython3",
   "version": "3.7.4"
  }
 },
 "nbformat": 4,
 "nbformat_minor": 2
}
